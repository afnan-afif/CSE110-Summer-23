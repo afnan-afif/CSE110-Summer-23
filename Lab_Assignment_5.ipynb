{
  "nbformat": 4,
  "nbformat_minor": 0,
  "metadata": {
    "colab": {
      "provenance": []
    },
    "kernelspec": {
      "name": "python3",
      "display_name": "Python 3"
    },
    "language_info": {
      "name": "python"
    }
  },
  "cells": [
    {
      "cell_type": "code",
      "execution_count": null,
      "metadata": {
        "colab": {
          "base_uri": "https://localhost:8080/"
        },
        "id": "Wm6LQdIkQJ27",
        "outputId": "ef577ed9-fb37-4470-92b9-a0b6e072a806"
      },
      "outputs": [
        {
          "output_type": "stream",
          "name": "stdout",
          "text": [
            "5\n",
            "Numbers in the list:[5]\n",
            "3\n",
            "Numbers in the list:[5, 3]\n",
            "34\n",
            "Numbers in the list:[5, 3, 34]\n",
            "-11\n",
            "Numbers in the list:[5, 3, 34, -11]\n",
            "0\n",
            "Numbers in the list:[5, 3, 34, -11, 0]\n"
          ]
        }
      ],
      "source": [
        "#Task-1\n",
        "mylist=[]\n",
        "for i in range(5):\n",
        "  mylist.append(int(input()))\n",
        "  print(f'Numbers in the list:{mylist}')\n"
      ]
    },
    {
      "cell_type": "code",
      "source": [
        "#Task-2\n",
        "lista=[]\n",
        "a=input()\n",
        "temp=''\n",
        "for i in range(0,len(a)):\n",
        "  if a[i]=='':\n",
        "    continue\n",
        "  elif a[i]==',':\n",
        "    lista.append(int(temp))\n",
        "    temp=''\n",
        "  else:\n",
        "    temp+=a[i]\n",
        "lista.append(int(temp))\n",
        "if len(lista)>=4:\n",
        "  print(lista[2:-2])\n",
        "else:\n",
        "  print('\"Not possible\"')"
      ],
      "metadata": {
        "colab": {
          "base_uri": "https://localhost:8080/"
        },
        "id": "wMxtXlUbnC9c",
        "outputId": "82f7986b-c8b4-46df-f5cd-25dd3a9b50b2"
      },
      "execution_count": null,
      "outputs": [
        {
          "output_type": "stream",
          "name": "stdout",
          "text": [
            "10, 20, 24, 25\n",
            "[]\n"
          ]
        }
      ]
    },
    {
      "cell_type": "code",
      "source": [
        "#Task-3\n",
        "mylist=[]\n",
        "for i in range(5):\n",
        "  mylist.append(input())\n",
        "mylist2=mylist[-1::-1]\n",
        "print('Printing values from the list in reverse order:')\n",
        "for i in mylist2:\n",
        "  print(i)"
      ],
      "metadata": {
        "colab": {
          "base_uri": "https://localhost:8080/"
        },
        "id": "YPLyqWX8enyL",
        "outputId": "11a6eab7-a1f7-43dd-ae81-79805eccf1b1"
      },
      "execution_count": null,
      "outputs": [
        {
          "output_type": "stream",
          "name": "stdout",
          "text": [
            "5\n",
            "-5\n",
            "100\n",
            "1\n",
            "0\n",
            "Printing values from the list in reverse order:\n",
            "0\n",
            "1\n",
            "100\n",
            "-5\n",
            "5\n"
          ]
        }
      ]
    },
    {
      "cell_type": "code",
      "source": [
        "#Task-4\n",
        "given_list=[1, 2, 3, 4, 5, 6, 7]\n",
        "# given_list=[3, 5, 1, 6]\n",
        "new_list=[]\n",
        "for i in given_list:\n",
        "  i=i**2\n",
        "  new_list.append(i)\n",
        "print(new_list)"
      ],
      "metadata": {
        "colab": {
          "base_uri": "https://localhost:8080/"
        },
        "id": "7K4ddy72gbGl",
        "outputId": "94eafc09-e92f-4c69-d938-4739bd592db8"
      },
      "execution_count": null,
      "outputs": [
        {
          "output_type": "stream",
          "name": "stdout",
          "text": [
            "[1, 4, 9, 16, 25, 36, 49]\n"
          ]
        }
      ]
    },
    {
      "cell_type": "code",
      "source": [
        "# Task-5\n",
        "alist=[\"hey\", \"there\", \"\", \"what's\", \"\", \"up\", \"\", \"?\"]\n",
        "new_list=[]\n",
        "print(f'Original List: {alist}')\n",
        "# alist=[x for x in alist if x!=\"\"]\n",
        "for i in alist:\n",
        "  if i==\"\":\n",
        "    continue\n",
        "  else:\n",
        "    new_list.append(i)\n",
        "print(f'Modified List: {new_list}')"
      ],
      "metadata": {
        "colab": {
          "base_uri": "https://localhost:8080/"
        },
        "id": "T5EqgAdRjx7d",
        "outputId": "9b0ef3f7-3568-4ff4-b839-9ad6d7b6329f"
      },
      "execution_count": null,
      "outputs": [
        {
          "output_type": "stream",
          "name": "stdout",
          "text": [
            "Original List: ['hey', 'there', '', \"what's\", '', 'up', '', '?']\n",
            "Modified List: ['hey', 'there', \"what's\", 'up', '?']\n"
          ]
        }
      ]
    },
    {
      "cell_type": "code",
      "source": [
        "#Task-6\n",
        "a=input()\n",
        "lista=[]\n",
        "temp=''\n",
        "for i in a:\n",
        "  if i==',':\n",
        "    lista.append(int(temp))\n",
        "    temp=''\n",
        "  else:\n",
        "    temp+=i\n",
        "lista.append(int(temp))\n",
        "# print(lista)\n",
        "maximum=-10**99\n",
        "count=0\n",
        "for x in lista:\n",
        "  if int(x)>maximum:\n",
        "    maximum=int(x)\n",
        "    # count+=1\n",
        "  else:\n",
        "    pass\n",
        "for y in lista:\n",
        "  if y!=maximum:\n",
        "    count+=1\n",
        "  else:\n",
        "    break\n",
        "print(f'My list:{lista}')\n",
        "print(f'Largest number in the list is {maximum} which was found at index {count}.')"
      ],
      "metadata": {
        "colab": {
          "base_uri": "https://localhost:8080/"
        },
        "id": "_epr197XmO71",
        "outputId": "f22ea09d-9fae-4ca7-b5fd-3331fd2e14a1"
      },
      "execution_count": null,
      "outputs": [
        {
          "output_type": "stream",
          "name": "stdout",
          "text": [
            "1, 2, 3, 4, 5, 6, 7\n",
            "My list:[1, 2, 3, 4, 5, 6, 7]\n",
            "Largest number in the list is 7 which was found at index 6.\n"
          ]
        }
      ]
    },
    {
      "cell_type": "code",
      "source": [
        "#Task-7\n",
        "List_one=[1, 3, 5, 6]\n",
        "List_two=[2, 4, 6, 8]\n",
        "newlist=[]\n",
        "List_one=List_one[0:len(List_one)-1]\n",
        "for i in (List_one):\n",
        "  newlist.append(i)\n",
        "for j in List_two:\n",
        "  newlist.append(j)\n",
        "print(newlist)\n"
      ],
      "metadata": {
        "colab": {
          "base_uri": "https://localhost:8080/"
        },
        "id": "P30MjB3Jss5w",
        "outputId": "c50c02d4-de15-487d-a73d-cc698dd6798d"
      },
      "execution_count": null,
      "outputs": [
        {
          "output_type": "stream",
          "name": "stdout",
          "text": [
            "[1, 3, 5, 2, 4, 6, 8]\n"
          ]
        }
      ]
    },
    {
      "cell_type": "code",
      "source": [
        "#Task-7\n",
        "List_one=[1, 3, 5, 6]\n",
        "List_two=[2, 4, 6, 8]\n",
        "print(List_one[:-1:1]+List_two)"
      ],
      "metadata": {
        "colab": {
          "base_uri": "https://localhost:8080/"
        },
        "id": "pr-OcnnCHUyR",
        "outputId": "4c8665d4-40e2-4c8d-cea1-74b059356718"
      },
      "execution_count": null,
      "outputs": [
        {
          "output_type": "stream",
          "name": "stdout",
          "text": [
            "[1, 3, 5, 2, 4, 6, 8]\n"
          ]
        }
      ]
    },
    {
      "cell_type": "code",
      "source": [
        "#Task-8\n",
        "list_one = [1, 2, 3, 4, 5, 6, 7, 8, 9]\n",
        "list_two = [10, 11, 12, -13, -14, -15, -16]\n",
        "newlist=[]\n",
        "# List_one=List_one[0:len(List_one)-1]\n",
        "for i in (list_one):\n",
        "  if i%2==0:\n",
        "    newlist.append(i)\n",
        "for j in list_two:\n",
        "  if j%2==0 or -j%2==0 :\n",
        "    newlist.append(j)\n",
        "print(newlist)"
      ],
      "metadata": {
        "colab": {
          "base_uri": "https://localhost:8080/"
        },
        "id": "HzAtBUUpxgFD",
        "outputId": "18c4f596-dbe6-4a5f-918a-224f4390bb90"
      },
      "execution_count": null,
      "outputs": [
        {
          "output_type": "stream",
          "name": "stdout",
          "text": [
            "[2, 4, 6, 8, 10, 12, -14, -16]\n"
          ]
        }
      ]
    },
    {
      "cell_type": "code",
      "source": [
        "#task-9\n",
        "a=input()\n",
        "lista=[]\n",
        "newlist=[]\n",
        "temp=''\n",
        "for i in range(0,len(a)):\n",
        "  if a[i]==' ':\n",
        "    lista.append(int(temp))\n",
        "    temp=''\n",
        "  else:\n",
        "    temp+=a[i]\n",
        "lista.append(int(temp))\n",
        "for j in (lista):\n",
        "  if j%2!=0 or -j%2!=0:\n",
        "    newlist.append(j)\n",
        "print(f'Original list:{lista}')\n",
        "print(f'Modified list: {newlist}')"
      ],
      "metadata": {
        "colab": {
          "base_uri": "https://localhost:8080/"
        },
        "id": "3DTad380y9A-",
        "outputId": "f1fd8e56-22e4-4210-beab-f3b0d2c040f3"
      },
      "execution_count": null,
      "outputs": [
        {
          "output_type": "stream",
          "name": "stdout",
          "text": [
            "7 12 4 55 96 2 11 61 33 42\n",
            "Original list:[7, 12, 4, 55, 96, 2, 11, 61, 33, 42]\n",
            "Modified list: [7, 55, 11, 61, 33]\n"
          ]
        }
      ]
    },
    {
      "cell_type": "code",
      "source": [
        "#task-10\n",
        "a=input()\n",
        "lista=[]\n",
        "newlist=[]\n",
        "temp=''\n",
        "for i in range(0,len(a)):\n",
        "  if a[i]==',':\n",
        "    lista.append(int(temp))\n",
        "    temp=''\n",
        "  else:\n",
        "    temp+=a[i]\n",
        "lista.append(int(temp))\n",
        "print(f'Input list:{lista}')\n",
        "for j in lista:\n",
        "  if j in newlist:\n",
        "    pass\n",
        "  else:\n",
        "    newlist.append(j)\n",
        "print(f'Modified list: {newlist}')"
      ],
      "metadata": {
        "colab": {
          "base_uri": "https://localhost:8080/"
        },
        "id": "hYZTlxmk1wiB",
        "outputId": "9d11a487-2f78-4153-85d9-ed50ede64ac1"
      },
      "execution_count": null,
      "outputs": [
        {
          "output_type": "stream",
          "name": "stdout",
          "text": [
            "7, 7, 7, 1, 0, 3, 3, 55, 9\n",
            "Input list:[7, 7, 7, 1, 0, 3, 3, 55, 9]\n",
            "Modified list: [7, 1, 0, 3, 55, 9]\n"
          ]
        }
      ]
    },
    {
      "cell_type": "code",
      "source": [
        "#Task-11\n",
        "List_one=[1, 4, 3, 2, 5]\n",
        "List_two=[8, 7, 6, 9]\n",
        "flag=True\n",
        "for i in List_one:\n",
        "  if i in List_two:\n",
        "    flag=True\n",
        "  else:\n",
        "    flag=False\n",
        "print(flag)"
      ],
      "metadata": {
        "id": "RZR-QdVx2e5-",
        "outputId": "584bcb86-d6d4-41b0-a3ef-5a6293b42169",
        "colab": {
          "base_uri": "https://localhost:8080/"
        }
      },
      "execution_count": null,
      "outputs": [
        {
          "output_type": "stream",
          "name": "stdout",
          "text": [
            "False\n"
          ]
        }
      ]
    },
    {
      "cell_type": "code",
      "source": [
        "#Task12\n",
        "myList = [0, 0, 0, 0, 0, 0, 0, 0, 0, 0]\n",
        "index1 = 0\n",
        "index2 = 0\n",
        "index1 = 1\n",
        "while(index1<10):\n",
        "  myList[index1] = index1+4\n",
        "  index2 = 1\n",
        "  while(index2<index1):\n",
        "      myList[index1] = myList[index1] + myList[index2]-index1\n",
        "      index2 = index2+1\n",
        "  print(myList[index1])\n",
        "  index1 = index1+1\n",
        "\n"
      ],
      "metadata": {
        "colab": {
          "base_uri": "https://localhost:8080/"
        },
        "id": "JoaUMHDfpLxl",
        "outputId": "fdc485a5-c72d-46c0-d5c9-c64d7ffa7e56"
      },
      "execution_count": null,
      "outputs": [
        {
          "output_type": "stream",
          "name": "stdout",
          "text": [
            "5\n",
            "9\n",
            "15\n",
            "25\n",
            "43\n",
            "77\n",
            "143\n",
            "273\n",
            "531\n"
          ]
        }
      ]
    },
    {
      "cell_type": "code",
      "source": [
        "#Task-13\n",
        "myList = [0, 0, 0, 0, 0, 0, 0, 0, 0, 0]\n",
        "index1 = 0\n",
        "index2 = 0\n",
        "index1 = 1\n",
        "while (index1 < 10):\n",
        "  myList[index1] = index1 + 4\n",
        "  index2 = 1\n",
        "  while (index2 < index1):\n",
        "    myList[index1] = myList[index1-1] - myList[index2-1] - index1\n",
        "    index2 = index2 + 1\n",
        "  print(myList[index1])\n",
        "  index1 = index1 + 1\n",
        "\n",
        "\n",
        "\n"
      ],
      "metadata": {
        "colab": {
          "base_uri": "https://localhost:8080/"
        },
        "id": "HCAbUa36pZBV",
        "outputId": "2156e50b-f3d1-499b-c9e4-43304649e32d"
      },
      "execution_count": null,
      "outputs": [
        {
          "output_type": "stream",
          "name": "stdout",
          "text": [
            "5\n",
            "3\n",
            "-5\n",
            "-12\n",
            "-12\n",
            "-6\n",
            "-1\n",
            "-3\n",
            "-11\n"
          ]
        }
      ]
    },
    {
      "cell_type": "code",
      "source": [
        "#Task-14\n",
        "\n",
        "myList = [0, 0, 0, 0, 0, 0, 0, 0, 0, 0]\n",
        "b = []\n",
        "index1 = 0\n",
        "index2 = 0\n",
        "index1 = 1\n",
        "b = myList\n",
        "while(index1<10):\n",
        "  myList[index1] = index1+2\n",
        "  index2 = 1\n",
        "  while(index2<index1):\n",
        "    myList[index1] = b[index1]+myList[index2]-index1\n",
        "    index2 = index2+1\n",
        "  print(myList[index1])\n",
        "  index1 = index1+1\n",
        "\n"
      ],
      "metadata": {
        "colab": {
          "base_uri": "https://localhost:8080/"
        },
        "id": "nO35vJggpnBD",
        "outputId": "3fabfdae-137e-40a5-c8ec-228aec17ceb5"
      },
      "execution_count": null,
      "outputs": [
        {
          "output_type": "stream",
          "name": "stdout",
          "text": [
            "3\n",
            "5\n",
            "7\n",
            "9\n",
            "11\n",
            "13\n",
            "15\n",
            "17\n",
            "19\n"
          ]
        }
      ]
    },
    {
      "cell_type": "code",
      "source": [
        "#Task-15\n",
        "\n",
        "myList = [0, 0, 0, 0, 0, 0, 0, 0, 0, 0]\n",
        "b = []\n",
        "index1 = 0\n",
        "index2 = 0\n",
        "index1 = 1\n",
        "b = myList\n",
        "while (index1 < 10):\n",
        "  myList[index1] = index1 + 1\n",
        "  index2 = 1\n",
        "  while (index2 < index1):\n",
        "    myList[index1] = b[index2-1] + myList[index2] - index1\n",
        "    index2 = index2 + 1\n",
        "  print(myList[index1])\n",
        "  index1 = index1 + 1\n",
        "\n"
      ],
      "metadata": {
        "colab": {
          "base_uri": "https://localhost:8080/"
        },
        "id": "XvvkAE0nqY6k",
        "outputId": "110a3f75-a10d-4c96-830b-e5881298e8d4"
      },
      "execution_count": null,
      "outputs": [
        {
          "output_type": "stream",
          "name": "stdout",
          "text": [
            "2\n",
            "0\n",
            "-1\n",
            "-5\n",
            "-11\n",
            "-22\n",
            "-40\n",
            "-70\n",
            "-119\n"
          ]
        }
      ]
    },
    {
      "cell_type": "code",
      "source": [
        "#task-16\n",
        "n=7, 13, 2, 10, 6, -11, 0\n",
        "l=[c for c in n if c!=', ']\n",
        "print(l)"
      ],
      "metadata": {
        "id": "bGAg-wXhqd2Q",
        "colab": {
          "base_uri": "https://localhost:8080/"
        },
        "outputId": "64dc3a52-c373-4db6-f310-f4bc9739c43d"
      },
      "execution_count": null,
      "outputs": [
        {
          "output_type": "stream",
          "name": "stdout",
          "text": [
            "[7, 13, 2, 10, 6, -11, 0]\n"
          ]
        }
      ]
    },
    {
      "cell_type": "code",
      "source": [
        "#task-16\n",
        "n=7, 13, 2, 10, 6, -11, 0\n",
        "l=[c for c in n if c!=', ']\n",
        "cnt=0\n",
        "cnt2=0\n",
        "count=0\n",
        "count2=0\n",
        "max=-10**99\n",
        "max2=-10**99\n",
        "for i in l:\n",
        "  if i!=max:\n",
        "    count+=1\n",
        "  if i>=max:\n",
        "    max=i\n",
        "    cnt=count-1\n",
        "  else:\n",
        "    pass\n",
        "l2=[x for x in l if x!=l[cnt]]\n",
        "for j in l2:\n",
        "  if j!=max2:\n",
        "    count2+=1\n",
        "  if j>=max2:\n",
        "    max2=j\n",
        "    cnt2=count2+1\n",
        "  else:\n",
        "    pass\n",
        "print(f'My list:{l2}')\n",
        "print(f'Second largest number in the list is {max2} which was found at index {cnt2}.')"
      ],
      "metadata": {
        "colab": {
          "base_uri": "https://localhost:8080/"
        },
        "id": "WaRTmoaaH1R6",
        "outputId": "eff5386a-1f06-4c6d-fdf4-681c2673ca7b"
      },
      "execution_count": null,
      "outputs": [
        {
          "output_type": "stream",
          "name": "stdout",
          "text": [
            "My list:[7, 2, 10, 6, -11, 0]\n",
            "Second largest number in the list is 10 which was found at index 4.\n"
          ]
        }
      ]
    },
    {
      "cell_type": "code",
      "source": [
        "#Task-17\n",
        "#n=input()\n",
        "n=7, 13, -5, 10, 6\n",
        "l=[c for c in n if c!=', ']\n",
        "cnt=0\n",
        "cnt2=0\n",
        "count=0\n",
        "count2=0\n",
        "max=-10**99\n",
        "min=10**99\n",
        "for i in l:\n",
        "  if i!=max:\n",
        "    count+=1\n",
        "  if i>=max:\n",
        "    max=i\n",
        "    cnt=count\n",
        "  else:\n",
        "    pass\n",
        "for j in l:\n",
        "  if j!=min:\n",
        "    count2+=1\n",
        "  if j<=min:\n",
        "    min=j\n",
        "    cnt2=count2\n",
        "  else:\n",
        "    pass\n",
        "print(f'Smallest number in the list is {min} which was found at index {cnt2}')\n",
        "print(f'Largest number in the list is {max} which was found at index {cnt}')"
      ],
      "metadata": {
        "colab": {
          "base_uri": "https://localhost:8080/"
        },
        "id": "hq-85vUAILf8",
        "outputId": "2c2632cd-9c7a-47f2-ea8c-840253c789f7"
      },
      "execution_count": null,
      "outputs": [
        {
          "output_type": "stream",
          "name": "stdout",
          "text": [
            "Smallest number in the list is -5 which was found at index 3\n",
            "Largest number in the list is 13 which was found at index 2\n"
          ]
        }
      ]
    },
    {
      "cell_type": "code",
      "source": [
        "#Task-18 lab5\n",
        "# l1=input()\n",
        "l1='1, 3, A, H, P'\n",
        "# l2=input()\n",
        "l2='A, G, 1, P, O'\n",
        "l3=[x for x in l1 if x!=',' and x!=' ']+[j for j in l2 if j!=',' and j!=' ']\n",
        "l4=[]\n",
        "l5=[]\n",
        "for i in l3:\n",
        "  if l3.count(i)>1:\n",
        "    l4.append(i)\n",
        "for i in l4:\n",
        "  if i in l5:\n",
        "    pass\n",
        "  else:\n",
        "    l5.append(i)\n",
        "print(l5)"
      ],
      "metadata": {
        "id": "wCXY3kCSPrQl",
        "colab": {
          "base_uri": "https://localhost:8080/"
        },
        "outputId": "30881c85-458b-465c-ead3-3b2215d9f53c"
      },
      "execution_count": null,
      "outputs": [
        {
          "output_type": "stream",
          "name": "stdout",
          "text": [
            "1, 3, A, H, P\n",
            "A, G, 1, P, O\n",
            "['1', 'A', 'P']\n"
          ]
        }
      ]
    },
    {
      "cell_type": "code",
      "source": [
        "#Task-19--==--lab5\n",
        "l1 = [1, 2, 2, 4, 5, 5, 7, 99, 200, 303, 70]\n",
        "l2 = [1, 1, 2, 3, 3, 3, 4, 5, 200, 500, -5]\n",
        "l3=l1+l2\n",
        "l4=[]\n",
        "for i in l3:\n",
        "    if i in l4:\n",
        "        pass\n",
        "    else:\n",
        "        l4.append(i)\n",
        "print(l4)"
      ],
      "metadata": {
        "id": "QnQRD7Apl3-d"
      },
      "execution_count": null,
      "outputs": []
    },
    {
      "cell_type": "code",
      "source": [
        "#Task-20\n",
        "n='[1,        2 ,            3, 50, 4]'\n",
        "n2=''\n",
        "for i in n:\n",
        "    if i!='[' and i!=']':\n",
        "        n2+=i\n",
        "print(f'Original data:{n}')\n",
        "print(f'After removing square brackets:{n2}')\n",
        "l=[]\n",
        "temp=''\n",
        "for i in n2:\n",
        "    if i!=',':\n",
        "        temp+=i\n",
        "    else:\n",
        "        # temp+=i\n",
        "        l.append(temp)\n",
        "        temp=''\n",
        "print(f'Numbers in string format with extra white spaces:{l}')\n",
        "l2=n2.split(',')\n",
        "temp2=''\n",
        "for j in n2:\n",
        "    if  j!=',' and j!=' ' and j!='':\n",
        "        temp2+=j\n",
        "    else:\n",
        "        l2.append(temp2)\n",
        "        temp2=''\n",
        "l3=[x for x in l2 if x!=' ']\n",
        "print(f'Final data (numbers in list format):{l3}')"
      ],
      "metadata": {
        "id": "NrFdwHSrooMU"
      },
      "execution_count": null,
      "outputs": []
    }
  ]
}