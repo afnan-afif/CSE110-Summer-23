{
  "nbformat": 4,
  "nbformat_minor": 0,
  "metadata": {
    "colab": {
      "provenance": []
    },
    "kernelspec": {
      "name": "python3",
      "display_name": "Python 3"
    },
    "language_info": {
      "name": "python"
    }
  },
  "cells": [
    {
      "cell_type": "markdown",
      "source": [
        "PART-1(TUPLES)"
      ],
      "metadata": {
        "id": "Axu6YIY3gPpi"
      }
    },
    {
      "cell_type": "code",
      "execution_count": null,
      "metadata": {
        "colab": {
          "base_uri": "https://localhost:8080/"
        },
        "id": "Mv9IuT0Uf-cB",
        "outputId": "7ed60b06-b2b2-46fa-b03c-29ffb56fd57f"
      },
      "outputs": [
        {
          "output_type": "stream",
          "name": "stdout",
          "text": [
            "Output: 400\n"
          ]
        }
      ],
      "source": [
        "#Task-1\n",
        "a_tuple = (\"The Institute\", (\"Best Mystery & Thriller\", \"The Silent Patient\", 68821), 75717,[1, 2, 3, 400, 5, 6, 7],\n",
        "(\"Best Fiction\", \"The Testaments\", 98291))\n",
        "print(f'Output: {((a_tuple[3])[3])}')"
      ]
    },
    {
      "cell_type": "code",
      "source": [
        "#task-2\n",
        "tuplea=(-10, 20, 25, 30, 40)\n",
        "print(tuplea[2:-2])"
      ],
      "metadata": {
        "colab": {
          "base_uri": "https://localhost:8080/"
        },
        "id": "mSsKuEBGiYhC",
        "outputId": "78f30a0b-bd3f-41f9-bf1b-5ed3a739eaa6"
      },
      "execution_count": null,
      "outputs": [
        {
          "output_type": "stream",
          "name": "stdout",
          "text": [
            "(25,)\n"
          ]
        }
      ]
    },
    {
      "cell_type": "code",
      "source": [
        "#Task-3\n",
        "book_info = (\n",
        "(\"Best Mystery & Thriller\",\"The Silent Patient\",68,821),\n",
        "(\"Best Horror\",\"The Institute\",75,717),\n",
        "(\"Best History & Biography\",\"The five\",31,783 ),\n",
        "(\"Best Fiction\",\"The Testaments\",98,291)\n",
        ")\n",
        "print(f'Size of the tuple is:{len(book_info)}')\n",
        "for i in book_info:\n",
        "  print(i)"
      ],
      "metadata": {
        "colab": {
          "base_uri": "https://localhost:8080/"
        },
        "id": "kucsYUnxjvbV",
        "outputId": "4688c5c2-5305-4d7a-c7f8-ae73d6c75991"
      },
      "execution_count": null,
      "outputs": [
        {
          "output_type": "stream",
          "name": "stdout",
          "text": [
            "Size of the tuple is:4\n",
            "('Best Mystery & Thriller', 'The Silent Patient', 68, 821)\n",
            "('Best Horror', 'The Institute', 75, 717)\n",
            "('Best History & Biography', 'The five', 31, 783)\n",
            "('Best Fiction', 'The Testaments', 98, 291)\n"
          ]
        }
      ]
    },
    {
      "cell_type": "code",
      "source": [
        "#Task-4\n",
        "book_info = (\n",
        "(\"Best Mystery & Thriller\",\"The Silent Patient\",68821),\n",
        "(\"Best Horror\",\"The Institute\",75717),\n",
        "(\"Best History & Biography\",\"The five\",31783 ),\n",
        "(\"Best Fiction\",\"The Testaments\",98291)\n",
        ")\n",
        "for i in book_info:\n",
        "  (Category,Title,Votes)=i\n",
        "  print(f\"{Title} won the '{Category}' category with {Votes} votes\")"
      ],
      "metadata": {
        "colab": {
          "base_uri": "https://localhost:8080/"
        },
        "id": "RU0RLfYknGIM",
        "outputId": "27eb3a5d-3cbc-466a-c702-3f07cec5ff13"
      },
      "execution_count": null,
      "outputs": [
        {
          "output_type": "stream",
          "name": "stdout",
          "text": [
            "The Silent Patient won the 'Best Mystery & Thriller' category with 68821 votes\n",
            "The Institute won the 'Best Horror' category with 75717 votes\n",
            "The five won the 'Best History & Biography' category with 31783 votes\n",
            "The Testaments won the 'Best Fiction' category with 98291 votes\n"
          ]
        }
      ]
    },
    {
      "cell_type": "code",
      "source": [
        "#Task-5\n",
        "gtuple=(10, 8, 5, 2, 10, 15, 10, 8, 5, 8, 8, 2)\n",
        "n=int(input())\n",
        "count=0\n",
        "for i in gtuple:\n",
        "  if i==n:\n",
        "    count+=1\n",
        "print(f\"{n} appears {count} times in the tuple\")"
      ],
      "metadata": {
        "colab": {
          "base_uri": "https://localhost:8080/"
        },
        "id": "hCSbwCaKrIHZ",
        "outputId": "20edf946-3871-4c55-d564-6d7821364e87"
      },
      "execution_count": null,
      "outputs": [
        {
          "output_type": "stream",
          "name": "stdout",
          "text": [
            "8\n",
            "8 appears 4 times in the tuple\n"
          ]
        }
      ]
    },
    {
      "cell_type": "code",
      "source": [
        "#Task-6\n",
        "gtuple=('a', 'b', 'c', 'd', 'e', 'f', 'g', 'h')\n",
        "newlist=list(gtuple)\n",
        "newlist2=[]\n",
        "for i in range(len(newlist)-1,-1,-1):\n",
        "  newlist2.append(newlist[i])\n",
        "print(tuple(newlist2))"
      ],
      "metadata": {
        "colab": {
          "base_uri": "https://localhost:8080/"
        },
        "id": "nFU4N9NosKlh",
        "outputId": "79193d20-9579-46c3-8586-af056ca744cd"
      },
      "execution_count": null,
      "outputs": [
        {
          "output_type": "stream",
          "name": "stdout",
          "text": [
            "('h', 'g', 'f', 'e', 'd', 'c', 'b', 'a')\n"
          ]
        }
      ]
    },
    {
      "cell_type": "code",
      "source": [
        "#Task-7\n",
        "d1={'Harry':15, 'Draco':8, 'Nevil':19}\n",
        "d2={'Ginie':18, 'Luna': 14}\n",
        "d3={}\n",
        "for i,j in d1.items():\n",
        "  d3[i]=j\n",
        "for k in d2:\n",
        "  d3[k]=d2[k]\n",
        "print(d3)"
      ],
      "metadata": {
        "colab": {
          "base_uri": "https://localhost:8080/"
        },
        "id": "Sz_S_7nmvZts",
        "outputId": "113da694-b59a-4a37-f0ea-2622aa8328ed"
      },
      "execution_count": null,
      "outputs": [
        {
          "output_type": "stream",
          "name": "stdout",
          "text": [
            "{'Harry': 15, 'Draco': 8, 'Nevil': 19, 'Ginie': 18, 'Luna': 14}\n"
          ]
        }
      ]
    },
    {
      "cell_type": "code",
      "source": [
        "#Task-8\n",
        "d={}\n",
        "a='Jon:100, Dan:200, Rob:30, Ned:110'.split(', ')\n",
        "sum=0\n",
        "count=0\n",
        "for i in a:\n",
        "  l=i.split(':')\n",
        "  d[l[0]]=int(l[1])\n",
        "  d.values()\n",
        "  sum+=int(l[1])\n",
        "  count+=1\n",
        "print(f\"Average is {sum/count}\")"
      ],
      "metadata": {
        "colab": {
          "base_uri": "https://localhost:8080/"
        },
        "id": "BuDNxgLAxH-5",
        "outputId": "31654758-9eae-4ce4-e786-58662e1086fb"
      },
      "execution_count": null,
      "outputs": [
        {
          "output_type": "stream",
          "name": "stdout",
          "text": [
            "Average is 110.0\n"
          ]
        }
      ]
    },
    {
      "cell_type": "code",
      "source": [
        "#Task-9\n",
        "exam_marks = {'Cierra Vega': 175, 'Alden Cantrell': 200, 'Kierra Gentry': 165, 'Pierre Cox': 190}\n",
        "d={}\n",
        "minimum=int(input())\n",
        "for i in exam_marks.items():\n",
        "  st,inti=i\n",
        "  if inti>=minimum:\n",
        "    d[st]=inti\n",
        "print(d)"
      ],
      "metadata": {
        "colab": {
          "base_uri": "https://localhost:8080/"
        },
        "id": "EPS3MK0QlKjl",
        "outputId": "2b679be7-3c1a-430e-d053-5e422f7351f8"
      },
      "execution_count": null,
      "outputs": [
        {
          "output_type": "stream",
          "name": "stdout",
          "text": [
            "190\n",
            "{'Alden Cantrell': 200, 'Pierre Cox': 190}\n"
          ]
        }
      ]
    },
    {
      "cell_type": "code",
      "source": [
        "#Task-10\n",
        "d={'sci fi': 12, 'mystery': 15, 'horror': 8, 'mythology': 10, 'young_adult': 4, 'adventure':14}\n",
        "maximum=-10**99\n",
        "key1=''\n",
        "for i in d.items():\n",
        "  key,value=i\n",
        "  if d[key]>maximum:\n",
        "    maximum=d[key]\n",
        "    key1=key\n",
        "print(f\"The highest selling book genre is '{key1}' and the number of books sold are {maximum}.\")"
      ],
      "metadata": {
        "colab": {
          "base_uri": "https://localhost:8080/"
        },
        "id": "C-Jr2UDv8cCL",
        "outputId": "5f7aa5cb-385e-40ab-9ca2-e6cee23df13c"
      },
      "execution_count": null,
      "outputs": [
        {
          "output_type": "stream",
          "name": "stdout",
          "text": [
            "The highest selling book genre is 'mystery' and the number of books sold are 15.\n"
          ]
        }
      ]
    },
    {
      "cell_type": "code",
      "source": [
        "#Task-11\n",
        "\n",
        "n = input(\"Enter a string: \")\n",
        "d = {}\n",
        "for i in n:\n",
        "  if i!=' ':\n",
        "    i = i.lower()\n",
        "    d[i] = d.get(i,0) + 1\n",
        "print(\"Character frequency:\")\n",
        "print(d)"
      ],
      "metadata": {
        "id": "nNmkIINZ8BFC",
        "colab": {
          "base_uri": "https://localhost:8080/"
        },
        "outputId": "8911be35-c04a-4ed2-e5c6-29d41748504a"
      },
      "execution_count": null,
      "outputs": [
        {
          "output_type": "stream",
          "name": "stdout",
          "text": [
            "Enter a string: Python programming is fun\n",
            "Character frequency:\n",
            "{'p': 2, 'y': 1, 't': 1, 'h': 1, 'o': 2, 'n': 3, 'r': 2, 'g': 2, 'a': 1, 'm': 2, 'i': 2, 's': 1, 'f': 1, 'u': 1}\n"
          ]
        }
      ]
    },
    {
      "cell_type": "code",
      "source": [
        "#TAsk-12\n",
        "d1 = {'A': [1, 2, 3], 'b': ['1', '2'], \"c\": [4, 5, 6, 7]}\n",
        "h=[]\n",
        "for i,k in d1.items():\n",
        "  for j in k:\n",
        "    if type(j)==str:\n",
        "      h.append(int(j))\n",
        "    else:\n",
        "      h.append(j)\n",
        "print(len(h))\n"
      ],
      "metadata": {
        "colab": {
          "base_uri": "https://localhost:8080/"
        },
        "id": "RhSg4STP-RGJ",
        "outputId": "38349cc0-ec52-409f-9999-e96760a62f04"
      },
      "execution_count": null,
      "outputs": [
        {
          "output_type": "stream",
          "name": "stdout",
          "text": [
            "9\n"
          ]
        }
      ]
    },
    {
      "cell_type": "code",
      "source": [
        "#Task-13\n",
        "list_1 = [(\"a\", 1), (\"b\", 2), (\"a\", 3), (\"b\", 1), (\"a\", 2), (\"c\", 1)]\n",
        "d={}\n",
        "for i in list_1:\n",
        "  j,k=i\n",
        "  if j in d:\n",
        "    d[j].append(k)\n",
        "  else:\n",
        "    d[j]=[k]\n",
        "print(d)"
      ],
      "metadata": {
        "id": "9Cg6hfb31mzD",
        "colab": {
          "base_uri": "https://localhost:8080/"
        },
        "outputId": "ef6d16c3-b8af-490a-867d-0e5ee838c7a8"
      },
      "execution_count": null,
      "outputs": [
        {
          "output_type": "stream",
          "name": "stdout",
          "text": [
            "{'a': [1, 3, 2], 'b': [2, 1], 'c': [1]}\n"
          ]
        }
      ]
    },
    {
      "cell_type": "code",
      "source": [
        "#Task 15\n",
        "l1=[(2, 3), (4, 5), (6, 7), (2, 8)]\n",
        "l2=[]\n",
        "for i,k in l1:\n",
        "    l2.append(i*k)\n",
        "print(l2)"
      ],
      "metadata": {
        "colab": {
          "base_uri": "https://localhost:8080/"
        },
        "id": "bB2aetD0siV7",
        "outputId": "8d9a05c5-676c-4c0c-c58c-d08f0014d010"
      },
      "execution_count": null,
      "outputs": [
        {
          "output_type": "stream",
          "name": "stdout",
          "text": [
            "[6, 20, 42, 16]\n"
          ]
        }
      ]
    },
    {
      "cell_type": "code",
      "source": [
        " #TASK_16\n",
        "b=input()\n",
        "a=( [1, 2, 3], [4, 5, 6], [7, 8, 9], [10, 11, 12])\n",
        "for i in a:\n",
        "    i[len(i)-1]=b\n",
        "print(a)"
      ],
      "metadata": {
        "colab": {
          "base_uri": "https://localhost:8080/"
        },
        "id": "aVyn0G41slL9",
        "outputId": "80e7a368-c5ce-4fbf-9d23-451553a94460"
      },
      "execution_count": null,
      "outputs": [
        {
          "output_type": "stream",
          "name": "stdout",
          "text": [
            "1000\n",
            "([1, 2, '1000'], [4, 5, '1000'], [7, 8, '1000'], [10, 11, '1000'])\n"
          ]
        }
      ]
    },
    {
      "cell_type": "code",
      "source": [
        "#Task-17\n",
        "d= {'c1':'Red', 'c2':'Green', 'c3':None, 'd4':'Blue', 'a5':None}\n",
        "d2={}\n",
        "for i,j in d.items():\n",
        "    if j==None:\n",
        "        pass\n",
        "    else:\n",
        "        d2[i]=j\n",
        "print(d2)\n"
      ],
      "metadata": {
        "colab": {
          "base_uri": "https://localhost:8080/"
        },
        "id": "jMjinRu5tvf4",
        "outputId": "8f459f02-f2f9-4ce8-b8f5-5e4d3c6a74d1"
      },
      "execution_count": null,
      "outputs": [
        {
          "output_type": "stream",
          "name": "stdout",
          "text": [
            "{'c1': 'Red', 'c2': 'Green', 'd4': 'Blue'}\n"
          ]
        }
      ]
    },
    {
      "cell_type": "code",
      "source": [
        "#Task-18\n",
        "a=(input())\n",
        "l=[]\n",
        "temp=''\n",
        "for i in a:\n",
        "    if i==',' or i==' ':\n",
        "        l.append(int(temp))\n",
        "        temp=''\n",
        "    else:\n",
        "        temp+=i\n",
        "l.append(int(temp))\n",
        "d= {'a' : 6, 'b' : 7, 'c' : 9, 'd' : 8, 'e' : 11, 'f' : 12, 'g' : 13}\n",
        "d2={}\n",
        "for j,k in d.items():\n",
        "    if k in l:\n",
        "        d2[j]=k\n",
        "    else:\n",
        "        pass\n",
        "print(d2)"
      ],
      "metadata": {
        "colab": {
          "base_uri": "https://localhost:8080/"
        },
        "id": "XzT8_M7bx-Ak",
        "outputId": "f6bdde5a-af6b-4feb-8e8b-8d6ee2cfb4a2"
      },
      "execution_count": null,
      "outputs": [
        {
          "output_type": "stream",
          "name": "stdout",
          "text": [
            "9,12\n",
            "{'c': 9, 'f': 12}\n"
          ]
        }
      ]
    },
    {
      "cell_type": "code",
      "source": [
        "#Task-19\n",
        "l=[(20, 80), (31, 80), (1, 22), (88, 11), (27, 11)]\n",
        "d={}\n",
        "for i in l:\n",
        "    if i[1] not in d:\n",
        "        d[i[1]]=[i]\n",
        "    else:\n",
        "        d[i[1]].append(i)\n",
        "print(d)"
      ],
      "metadata": {
        "id": "JBeNASXu0paK",
        "outputId": "e0e8456c-8d41-4dd3-e8e4-c55a3085e4c6",
        "colab": {
          "base_uri": "https://localhost:8080/"
        }
      },
      "execution_count": null,
      "outputs": [
        {
          "output_type": "stream",
          "name": "stdout",
          "text": [
            "{80: [(20, 80), (31, 80)], 22: [(1, 22)], 11: [(88, 11), (27, 11)]}\n"
          ]
        }
      ]
    },
    {
      "cell_type": "code",
      "source": [
        "#Task-20\n",
        "n='The secret of getting ahead is getting started.'\n",
        "l=['-', '=', '+', '*', '%']\n",
        "d={}\n",
        "l2=[]\n",
        "l3=[]\n",
        "temp=''\n",
        "for i in n:\n",
        "    if i=='.':\n",
        "        continue\n",
        "    elif i==' ':\n",
        "        l2.append(temp)\n",
        "        temp=''\n",
        "    else:\n",
        "        temp+=i\n",
        "l2.append(temp)\n",
        "for s in l2:\n",
        "    if s in l3:\n",
        "        pass\n",
        "    else:\n",
        "        l3.append(s)\n",
        "sum=0\n",
        "for a in l:\n",
        "    d[a]=[]\n",
        "for j in l3:\n",
        "    for k in j:\n",
        "        sum+=ord(k)\n",
        "    d[l[(sum%len(l))]].append(j)\n",
        "    sum=0\n",
        "print(d)"
      ],
      "metadata": {
        "id": "26SdLhB0zeYE",
        "outputId": "7e758104-0108-4fa7-f257-ffae9cfc7701",
        "colab": {
          "base_uri": "https://localhost:8080/"
        }
      },
      "execution_count": null,
      "outputs": [
        {
          "output_type": "stream",
          "name": "stdout",
          "text": [
            "{'-': ['is'], '=': ['secret'], '+': [], '*': ['of'], '%': ['The', 'getting', 'ahead', 'started']}\n"
          ]
        }
      ]
    },
    {
      "cell_type": "code",
      "source": [],
      "metadata": {
        "id": "cvj7uSHvzjXh"
      },
      "execution_count": null,
      "outputs": []
    }
  ]
}