{
  "nbformat": 4,
  "nbformat_minor": 0,
  "metadata": {
    "colab": {
      "provenance": []
    },
    "kernelspec": {
      "name": "python3",
      "display_name": "Python 3"
    },
    "language_info": {
      "name": "python"
    }
  },
  "cells": [
    {
      "cell_type": "code",
      "execution_count": null,
      "metadata": {
        "colab": {
          "base_uri": "https://localhost:8080/"
        },
        "id": "XAHd-hMViRr0",
        "outputId": "4d99a38b-3349-422a-864b-fb90b11c5247"
      },
      "outputs": [
        {
          "output_type": "stream",
          "name": "stdout",
          "text": [
            "4\n",
            "Even!!\n"
          ]
        }
      ],
      "source": [
        "#TAsk-1\n",
        "def even_checker(a):\n",
        "  if a%2==0:\n",
        "    print(f'Even!!')\n",
        "  else:\n",
        "    print(f'Odd!!')\n",
        "even_checker(int(input()))\n"
      ]
    },
    {
      "cell_type": "code",
      "source": [
        "#Task-2\n",
        "def fibonacci1(h):\n",
        "  a=0\n",
        "  b=1\n",
        "  g=[]\n",
        "  for i in range(h):\n",
        "    if a<h:\n",
        "      g.append(a)\n",
        "    else:\n",
        "      pass\n",
        "    x=a+b\n",
        "    a=b\n",
        "    b=x\n",
        "  return(g)\n",
        "e = fibonacci1(int(input()))\n",
        "for i in e:\n",
        "  print(i,end=' ')"
      ],
      "metadata": {
        "id": "z_vfArdrof83",
        "colab": {
          "base_uri": "https://localhost:8080/"
        },
        "outputId": "726d7345-dfc8-4043-9794-b4514c14fe36"
      },
      "execution_count": null,
      "outputs": [
        {
          "output_type": "stream",
          "name": "stdout",
          "text": [
            "14\n",
            "0 1 1 2 3 5 8 13 "
          ]
        }
      ]
    },
    {
      "cell_type": "code",
      "source": [
        "#Task-2\n",
        "def fibonacci(h):\n",
        "  a=0\n",
        "  b=1\n",
        "  for i in range(h+10):\n",
        "    if a<=h:\n",
        "      print(a,end=' ')\n",
        "    else:\n",
        "      pass\n",
        "    x=a+b\n",
        "    a=b\n",
        "    b=x\n",
        "fibonacci(int(input()))"
      ],
      "metadata": {
        "colab": {
          "base_uri": "https://localhost:8080/"
        },
        "id": "YVQiW3z-n-uP",
        "outputId": "eb304cf5-7714-4da5-f465-a3e9e87cd369"
      },
      "execution_count": null,
      "outputs": [
        {
          "output_type": "stream",
          "name": "stdout",
          "text": [
            "10\n",
            "0 1 1 2 3 5 8 "
          ]
        }
      ]
    },
    {
      "cell_type": "code",
      "source": [
        "#Task=3\n",
        "def foo_moo(x):\n",
        "  if x%2==0 and x%3==0:\n",
        "    return(\"FooMoo\")\n",
        "  elif x%2==0:\n",
        "    return(\"Foo\")\n",
        "  elif x%3==0:\n",
        "    return(\"Moo\")\n",
        "  else:\n",
        "    return(\"Boo\")\n",
        "print(foo_moo(int(input())))"
      ],
      "metadata": {
        "colab": {
          "base_uri": "https://localhost:8080/"
        },
        "id": "KmdPYdcpvJvM",
        "outputId": "7a3a7b08-2cf9-4ef6-fc1e-d6691389bd58"
      },
      "execution_count": null,
      "outputs": [
        {
          "output_type": "stream",
          "name": "stdout",
          "text": [
            "5\n",
            "Boo\n"
          ]
        }
      ]
    },
    {
      "cell_type": "code",
      "source": [
        "#Task-4\n",
        "def check_case(a):\n",
        "  ucount=0\n",
        "  lcount=0\n",
        "  for i in a:\n",
        "    if i==' ':\n",
        "      pass\n",
        "    elif ord(i)>=65 and ord(i)<=90:\n",
        "      ucount+=1\n",
        "    elif ord(i)>=97 and ord(i)<=122:\n",
        "      lcount+=1\n",
        "    else:\n",
        "      pass\n",
        "  print(f'No. of Uppercase characters :{ucount}')\n",
        "  print(f'No. of Lowercase Characters:{lcount}')\n",
        "check_case(input())\n"
      ],
      "metadata": {
        "colab": {
          "base_uri": "https://localhost:8080/"
        },
        "id": "wX69Bal6xmUT",
        "outputId": "2147c364-ad0e-4e83-b86d-dd295d70e3b3"
      },
      "execution_count": null,
      "outputs": [
        {
          "output_type": "stream",
          "name": "stdout",
          "text": [
            "HaRRy PotteR\n",
            "No. of Uppercase characters :5\n",
            "No. of Lowercase Characters:6\n"
          ]
        }
      ]
    },
    {
      "cell_type": "code",
      "source": [
        "#Task-5\n",
        "def calculate_tax(age,salary,job):\n",
        "  if age<18 or (job=='student' or job=='president') or salary<10000:\n",
        "    return 0\n",
        "  elif age>=18 and job!='president'and (salary>=10000 and salary<20000):\n",
        "    return(salary*(5/100))\n",
        "  elif age>=18 and job!='president' and salary>=20000:\n",
        "    return(salary*(10/100))\n",
        "x=calculate_tax(age=int(input('age: ')),salary=int(input('Salary: ')),job=input('Job: '))\n",
        "print(x)\n"
      ],
      "metadata": {
        "colab": {
          "base_uri": "https://localhost:8080/"
        },
        "id": "mfSftTLB0rV4",
        "outputId": "9504fac7-a2f5-4f2f-85c3-38e506c53ee2"
      },
      "execution_count": null,
      "outputs": [
        {
          "output_type": "stream",
          "name": "stdout",
          "text": [
            "age: 20\n",
            "Salary: 22000\n",
            "Job: president\n",
            "0\n"
          ]
        }
      ]
    },
    {
      "cell_type": "code",
      "source": [
        "#Task-6\n",
        "def time(nd):\n",
        "  y=nd//365\n",
        "  nd%=365\n",
        "  m=nd//30\n",
        "  nd%=30\n",
        "  print(f'{y} years, {m} months and {nd} days')\n",
        "time(int(input()))"
      ],
      "metadata": {
        "colab": {
          "base_uri": "https://localhost:8080/"
        },
        "id": "qZnt5mQ67DPJ",
        "outputId": "88e5b298-6c67-4d57-96b7-e35a7e66c8e9"
      },
      "execution_count": null,
      "outputs": [
        {
          "output_type": "stream",
          "name": "stdout",
          "text": [
            "4330\n",
            "11 years, 10 months and 15 days\n"
          ]
        }
      ]
    },
    {
      "cell_type": "code",
      "source": [
        "#Task-7\n",
        "def show_palindrome(x):\n",
        "  for i in range(1,x+1):\n",
        "    print(i,end=' ')\n",
        "  for j in range(x-1,0,-1):\n",
        "    print(j,end=' ')\n",
        "show_palindrome(int(input()))"
      ],
      "metadata": {
        "colab": {
          "base_uri": "https://localhost:8080/"
        },
        "id": "x-2rshNk7GAh",
        "outputId": "aba2067a-f616-4545-fe60-5208ca96332a"
      },
      "execution_count": null,
      "outputs": [
        {
          "output_type": "stream",
          "name": "stdout",
          "text": [
            "5\n",
            "1 2 3 4 5 4 3 2 1 "
          ]
        }
      ]
    },
    {
      "cell_type": "code",
      "source": [
        "#Task-8\n",
        "def show_palindromic_triangle2(a):\n",
        "  for i in range(1,a+1):\n",
        "    for s in range(a-i,-1,-1):\n",
        "      print(' ',end=' ')\n",
        "    show_palindrome(i)\n",
        "    print()\n",
        "show_palindromic_triangle2(5)"
      ],
      "metadata": {
        "colab": {
          "base_uri": "https://localhost:8080/"
        },
        "id": "ZcPUI8xt1dJx",
        "outputId": "5f5627c8-f365-442c-b593-4d5c2904f958"
      },
      "execution_count": null,
      "outputs": [
        {
          "output_type": "stream",
          "name": "stdout",
          "text": [
            "          1 \n",
            "        1 2 1 \n",
            "      1 2 3 2 1 \n",
            "    1 2 3 4 3 2 1 \n",
            "  1 2 3 4 5 4 3 2 1 \n"
          ]
        }
      ]
    },
    {
      "cell_type": "code",
      "source": [
        "#Task-9\n",
        "def area_circumference_generator(x):\n",
        "  import math\n",
        "  a=(math.pi)*(math.pow(x,2))\n",
        "  b=2*x*(math.pi)\n",
        "  l=[]\n",
        "  l.append(a)\n",
        "  l.append(b)\n",
        "  h=tuple(l)\n",
        "  print(h)\n",
        "  print(f'Area of the circle is {a} and circumference is {b}')\n",
        "\n",
        "area_circumference_generator(1)"
      ],
      "metadata": {
        "colab": {
          "base_uri": "https://localhost:8080/"
        },
        "id": "Xbyon3QLbC34",
        "outputId": "8e6f8220-18bb-4a25-c368-69205f1da787"
      },
      "execution_count": null,
      "outputs": [
        {
          "output_type": "stream",
          "name": "stdout",
          "text": [
            "(3.141592653589793, 6.283185307179586)\n",
            "Area of the circle is 3.141592653589793 and circumference is 6.283185307179586\n"
          ]
        }
      ]
    },
    {
      "cell_type": "code",
      "source": [
        "#Task-10\n",
        "def make_square(a,b):\n",
        "  d={}\n",
        "  for i in range(a,b+1):\n",
        "    d[i]=i**2\n",
        "  print(d)\n",
        "make_square(5,9)"
      ],
      "metadata": {
        "colab": {
          "base_uri": "https://localhost:8080/"
        },
        "id": "jbFXPlpob2wo",
        "outputId": "080bdc3f-280a-4fe6-a780-06ef709bb5de"
      },
      "execution_count": null,
      "outputs": [
        {
          "output_type": "stream",
          "name": "stdout",
          "text": [
            "{5: 25, 6: 36, 7: 49, 8: 64, 9: 81}\n"
          ]
        }
      ]
    },
    {
      "cell_type": "code",
      "source": [
        "#Task-11\n",
        "def rem_duplicate(a):\n",
        "  l=list(a)\n",
        "  l2=[]\n",
        "  for i in l:\n",
        "    if i in l2:\n",
        "      pass\n",
        "    else:\n",
        "      l2.append(i)\n",
        "  print(tuple(l2))\n",
        "rem_duplicate((\"Hi\", 1, 2, 3, 3, \"Hi\",'a', 'a', [1,2]))"
      ],
      "metadata": {
        "colab": {
          "base_uri": "https://localhost:8080/"
        },
        "id": "jJHZHuaSdHIb",
        "outputId": "f0c61889-c24c-4ea1-f721-0caa20247930"
      },
      "execution_count": null,
      "outputs": [
        {
          "output_type": "stream",
          "name": "stdout",
          "text": [
            "('Hi', 1, 2, 3, 'a', [1, 2])\n"
          ]
        }
      ]
    },
    {
      "cell_type": "code",
      "source": [
        "#Task-12                             #Unfinished\n",
        "def remover2(l):\n",
        "  d={}\n",
        "  l2=[]\n",
        "  for i in l:\n",
        "    x=l.count(i)\n",
        "    if x<3:\n",
        "      d[i]=x\n",
        "    else:\n",
        "      d[i]=2\n",
        "  for j,k in d.items():\n",
        "    for m in range(k):\n",
        "      l2.append(j)\n",
        "  print(l2)\n",
        "remover2([1, 2, 3, 3, 3, 3, 4, 5, 8, 8])"
      ],
      "metadata": {
        "colab": {
          "base_uri": "https://localhost:8080/"
        },
        "id": "gcTBZa4x9aKD",
        "outputId": "18cbedc8-bb39-4b3f-e602-d9b946e64408"
      },
      "execution_count": null,
      "outputs": [
        {
          "output_type": "stream",
          "name": "stdout",
          "text": [
            "[1, 2, 3, 3, 4, 5, 8, 8]\n"
          ]
        }
      ]
    },
    {
      "cell_type": "code",
      "source": [
        "#Task-13\n",
        "def calculator(o,a,b):\n",
        "  if o=='+':\n",
        "    print(a+b)\n",
        "  elif o=='-':\n",
        "    print(a-b)\n",
        "  elif o=='*':\n",
        "    print(a*b)\n",
        "  elif o=='/':\n",
        "    print(a/b)\n",
        "  else:\n",
        "    print('invalid')\n",
        "calculator(o=input('operator:' ),a=float(input('1st number: ')),b=float(input('2nd number: ')))\n"
      ],
      "metadata": {
        "id": "rz1WvWa9lVNx",
        "colab": {
          "base_uri": "https://localhost:8080/"
        },
        "outputId": "365ed981-c969-4904-a46a-c06b4c860e49"
      },
      "execution_count": null,
      "outputs": [
        {
          "output_type": "stream",
          "name": "stdout",
          "text": [
            "operator:*\n",
            "1st number: 5.5\n",
            "2nd number: 2.5\n",
            "13.75\n"
          ]
        }
      ]
    },
    {
      "cell_type": "code",
      "source": [
        "#TASK-14\n",
        "def rem_over(a,b):\n",
        "  temp=''\n",
        "  temp2=''\n",
        "  for i in range(len(a)):\n",
        "    if i>=3 and i%b==0:\n",
        "      temp2+=a[i]\n",
        "    else:\n",
        "      temp+=a[i]\n",
        "  print(temp+temp2)\n",
        "rem_over('I love programming.',3)"
      ],
      "metadata": {
        "colab": {
          "base_uri": "https://localhost:8080/"
        },
        "id": "S7qOCwx0xjRy",
        "outputId": "ce652bbc-51a1-499e-bc72-c4214f2aecbd"
      },
      "execution_count": null,
      "outputs": [
        {
          "output_type": "stream",
          "name": "stdout",
          "text": [
            "I lveprgrmmngo oai.\n"
          ]
        }
      ]
    },
    {
      "cell_type": "code",
      "source": [
        "#TASk-15\n",
        "def grocery(a,b=\"Dhanmondi\"):\n",
        "  d={\"Rice\":105,\"Potato\":20,\"Chicken\":250,\"Beef\":510,\"Oil\":85}\n",
        "  total=0\n",
        "  for i in a:\n",
        "    for j in d.keys():\n",
        "      if j==i:\n",
        "        total+=d[j]\n",
        "  if b==\"Dhanmondi\":\n",
        "    total+=30\n",
        "  else:\n",
        "    total+=70\n",
        "  print(total)\n",
        "grocery([\"Rice\", \"Beef\", \"Rice\"],\"mohakhali\")\n"
      ],
      "metadata": {
        "colab": {
          "base_uri": "https://localhost:8080/"
        },
        "id": "6uwhWVV3sQFQ",
        "outputId": "558b1c08-c059-48a8-9561-0b6b50835412"
      },
      "execution_count": null,
      "outputs": [
        {
          "output_type": "stream",
          "name": "stdout",
          "text": [
            "790\n"
          ]
        }
      ]
    }
  ]
}