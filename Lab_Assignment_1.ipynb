{
  "nbformat": 4,
  "nbformat_minor": 0,
  "metadata": {
    "colab": {
      "provenance": []
    },
    "kernelspec": {
      "name": "python3",
      "display_name": "Python 3"
    },
    "language_info": {
      "name": "python"
    }
  },
  "cells": [
    {
      "cell_type": "code",
      "execution_count": null,
      "metadata": {
        "colab": {
          "base_uri": "https://localhost:8080/"
        },
        "id": "t127rhVqJINu",
        "outputId": "9bb7332e-6114-4b78-e061-10d3036e8145"
      },
      "outputs": [
        {
          "output_type": "stream",
          "name": "stdout",
          "text": [
            "hello world\n"
          ]
        }
      ],
      "source": [
        "#Task-1\n",
        "print('hello world')"
      ]
    },
    {
      "cell_type": "code",
      "source": [
        "#Task-2\n",
        "print(54+56)"
      ],
      "metadata": {
        "colab": {
          "base_uri": "https://localhost:8080/"
        },
        "id": "--HyO0g1Jh5O",
        "outputId": "eef6113d-ca53-4372-ae93-a9f1762eda32"
      },
      "execution_count": null,
      "outputs": [
        {
          "output_type": "stream",
          "name": "stdout",
          "text": [
            "110\n"
          ]
        }
      ]
    },
    {
      "cell_type": "code",
      "source": [
        "#Task-3\n",
        "x= str('summer')\n",
        "y= str(2023)\n",
        "print(x,'\\n',y)\n",
        "print(y)\n"
      ],
      "metadata": {
        "colab": {
          "base_uri": "https://localhost:8080/"
        },
        "id": "H5S_VjvLM4WR",
        "outputId": "a7ee708c-a418-49ec-8d0c-e9fb2efc9819"
      },
      "execution_count": null,
      "outputs": [
        {
          "output_type": "stream",
          "name": "stdout",
          "text": [
            "summer \n",
            " 2023\n",
            "2023\n"
          ]
        }
      ]
    },
    {
      "cell_type": "code",
      "source": [
        "#Task-4\n",
        "x=input('your name is : ')\n",
        "print('your name is :' +x)"
      ],
      "metadata": {
        "colab": {
          "base_uri": "https://localhost:8080/"
        },
        "id": "Oa1mb4ieNGA4",
        "outputId": "68f8717c-35a8-48b5-b8b7-2331b4b275b0"
      },
      "execution_count": null,
      "outputs": [
        {
          "output_type": "stream",
          "name": "stdout",
          "text": [
            "your name is : jhon\n",
            "your name is :jhon\n"
          ]
        }
      ]
    },
    {
      "cell_type": "code",
      "source": [],
      "metadata": {
        "id": "5OxM3uFvseZD"
      },
      "execution_count": null,
      "outputs": []
    },
    {
      "cell_type": "code",
      "source": [
        "#Task-5\n",
        "import math\n",
        "M=int(input())\n",
        "N=int(input())\n",
        "ans=int(pow(M,N))\n",
        "print(str(M)+'^'+str(N)+':'+str(ans))"
      ],
      "metadata": {
        "colab": {
          "base_uri": "https://localhost:8080/"
        },
        "id": "pHOnLfFEPkuX",
        "outputId": "8ee6d05c-4afe-431d-e1de-da157eae4e72"
      },
      "execution_count": null,
      "outputs": [
        {
          "output_type": "stream",
          "name": "stdout",
          "text": [
            "2\n",
            "3\n",
            "2^3:8\n"
          ]
        }
      ]
    },
    {
      "cell_type": "code",
      "source": [
        "#TAsk-6\n",
        "x=float(input('Total Weight of the cargo: '))\n",
        "y=x%4\n",
        "z=x-y\n",
        "print('Maximum Weight: '+str(z))"
      ],
      "metadata": {
        "id": "ELGVZp07Scj1",
        "colab": {
          "base_uri": "https://localhost:8080/"
        },
        "outputId": "7bcf1d8f-fe32-4cb7-f9a7-8496a34d41f6"
      },
      "execution_count": null,
      "outputs": [
        {
          "output_type": "stream",
          "name": "stdout",
          "text": [
            "Total Weight of the cargo: 11\n",
            "Maximum Weight: 8.0\n"
          ]
        }
      ]
    },
    {
      "cell_type": "code",
      "source": [
        "#Task-7\n",
        "A=int(input('A'))\n",
        "B= int(input('B'))\n",
        "C=int(input('C'))\n",
        "D=float(input('D'))\n",
        "print(int(A**C+B*A-D/3))\n"
      ],
      "metadata": {
        "colab": {
          "base_uri": "https://localhost:8080/"
        },
        "id": "GNsj3chzU62S",
        "outputId": "a8ee6d37-0f53-4022-cb99-88e4bf2ccf03"
      },
      "execution_count": null,
      "outputs": [
        {
          "output_type": "stream",
          "name": "stdout",
          "text": [
            "A2\n",
            "B3\n",
            "C4\n",
            "D5\n",
            "20\n"
          ]
        }
      ]
    },
    {
      "cell_type": "code",
      "source": [
        "#Task-8\n",
        "x= int(input('Number of choco: '))\n",
        "y=int(x//3)\n",
        "z=x%3\n",
        "print('Each frien will recieve',str(y),'chocolates')\n",
        "print('The number of remaining choco are ',str(z))"
      ],
      "metadata": {
        "colab": {
          "base_uri": "https://localhost:8080/"
        },
        "id": "efw-an5-WSde",
        "outputId": "3715c1fb-d990-48af-be74-eb811cf45079"
      },
      "execution_count": null,
      "outputs": [
        {
          "output_type": "stream",
          "name": "stdout",
          "text": [
            "Number of choco: 50\n",
            "Each frien will recieve 16 chocolates\n",
            "The number of remaining choco is  2\n"
          ]
        }
      ]
    },
    {
      "cell_type": "code",
      "source": [
        "########################################--------<<<<<<<UNGRADED>>>>>>>---------#########################################"
      ],
      "metadata": {
        "id": "ZX8PsYZaC-yu"
      },
      "execution_count": null,
      "outputs": []
    },
    {
      "cell_type": "code",
      "source": [
        "#Task-9\n",
        "M=input()\n",
        "N=input()\n",
        "print(str(M+N))\n"
      ],
      "metadata": {
        "colab": {
          "base_uri": "https://localhost:8080/"
        },
        "id": "cUifEnyIN3tJ",
        "outputId": "450327f3-1beb-43ab-8323-95a27efa8d4c"
      },
      "execution_count": null,
      "outputs": [
        {
          "output_type": "stream",
          "name": "stdout",
          "text": [
            "Hello \n",
            "world\n",
            "Hello world\n"
          ]
        }
      ]
    },
    {
      "cell_type": "code",
      "source": [
        "#Task-10\n",
        "x=float(input())\n",
        "y=float(input())\n",
        "z=float(input())\n",
        "\n",
        "print(f'The inputs:{x},{y},{z}')\n",
        "print(f'The result is:{(x+y+z)}')"
      ],
      "metadata": {
        "id": "gOfDD5pPOp-H",
        "colab": {
          "base_uri": "https://localhost:8080/"
        },
        "outputId": "2cf249bb-a953-4b1c-9500-192dee33ac87"
      },
      "execution_count": null,
      "outputs": [
        {
          "output_type": "stream",
          "name": "stdout",
          "text": [
            "3\n",
            "11.57\n",
            "7\n",
            "The inputs:3.0,11.57,7.0\n",
            "The result is:21.57\n"
          ]
        }
      ]
    },
    {
      "cell_type": "code",
      "source": [
        "#task-11\n",
        "x=int(input())\n",
        "if x%2==0:\n",
        "  print(True)\n",
        "else:\n",
        "  print(False)\n"
      ],
      "metadata": {
        "colab": {
          "base_uri": "https://localhost:8080/"
        },
        "id": "-jydUyDwRfQ4",
        "outputId": "b7dabc68-8448-4a33-adb5-4be2c14ad3d2"
      },
      "execution_count": null,
      "outputs": [
        {
          "output_type": "stream",
          "name": "stdout",
          "text": [
            "3\n",
            "False\n"
          ]
        }
      ]
    }
  ]
}