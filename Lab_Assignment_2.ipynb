{
  "nbformat": 4,
  "nbformat_minor": 0,
  "metadata": {
    "colab": {
      "provenance": []
    },
    "kernelspec": {
      "name": "python3",
      "display_name": "Python 3"
    },
    "language_info": {
      "name": "python"
    }
  },
  "cells": [
    {
      "cell_type": "code",
      "execution_count": null,
      "metadata": {
        "colab": {
          "base_uri": "https://localhost:8080/"
        },
        "id": "HwIE4CEHF5sT",
        "outputId": "fa632fce-48fd-43b4-cabf-55260366586c"
      },
      "outputs": [
        {
          "output_type": "stream",
          "name": "stdout",
          "text": [
            "2\n",
            "3\n",
            "Sum = 5.0\n",
            "Product = 6.0\n",
            "Difference = -1.0\n"
          ]
        }
      ],
      "source": [
        "#task-1\n",
        "a=float(input())\n",
        "b=float(input())\n",
        "\n",
        "sum=float(a+b)\n",
        "product=float(a*b)\n",
        "diff=float(a-b)\n",
        "\n",
        "print('Sum =',float(sum))\n",
        "print('Product =',float(product))\n",
        "print('Difference =',float(diff))\n"
      ]
    },
    {
      "cell_type": "code",
      "source": [
        "#Task-2\n",
        "import math\n",
        "a=float(input())\n",
        "print('Area is ',math.pi*a*a)\n",
        "print('Circumference is ',math.pi*2*a)"
      ],
      "metadata": {
        "colab": {
          "base_uri": "https://localhost:8080/"
        },
        "id": "qhSgZK5FJZpP",
        "outputId": "67673816-ae9a-4a37-d7b6-f74109fdc4b6"
      },
      "execution_count": null,
      "outputs": [
        {
          "output_type": "stream",
          "name": "stdout",
          "text": [
            "4\n",
            "Area is  50.26548245743669\n",
            "Circumference is  25.132741228718345\n"
          ]
        }
      ]
    },
    {
      "cell_type": "code",
      "source": [
        "#Task-3\n",
        "a=int(input())\n",
        "b=int(input())\n",
        "\n",
        "if a>b:\n",
        "  print('First is greater')\n",
        "elif a==b:\n",
        "  print('The numbers are equal')\n",
        "else:\n",
        "  print('Second is graeter ')"
      ],
      "metadata": {
        "colab": {
          "base_uri": "https://localhost:8080/"
        },
        "id": "5g3EAYbHLqud",
        "outputId": "5c9a0e53-36ce-43fe-fffe-123cded11302"
      },
      "execution_count": null,
      "outputs": [
        {
          "output_type": "stream",
          "name": "stdout",
          "text": [
            "3\n",
            "3\n",
            "The numbers are equal\n"
          ]
        }
      ]
    },
    {
      "cell_type": "code",
      "source": [
        "#Task-4\n",
        "a=int(input())\n",
        "b=int(input())\n",
        "\n",
        "if a>b:\n",
        "  print(a-b)\n",
        "elif a<b:\n",
        "  print(b-a)\n",
        "else:\n",
        "  print(0)\n"
      ],
      "metadata": {
        "colab": {
          "base_uri": "https://localhost:8080/"
        },
        "id": "lWaA1WHTMkx1",
        "outputId": "d6eaada0-d116-4d70-e237-229f33f9cc9a"
      },
      "execution_count": null,
      "outputs": [
        {
          "output_type": "stream",
          "name": "stdout",
          "text": [
            "5\n",
            "5\n",
            "0\n"
          ]
        }
      ]
    },
    {
      "cell_type": "code",
      "source": [
        "#Task-5\n",
        "a=int(input())\n",
        "if a%2==0:\n",
        "  print('The number is even.')\n",
        "else:\n",
        "  print('The number is odd')"
      ],
      "metadata": {
        "colab": {
          "base_uri": "https://localhost:8080/"
        },
        "id": "RMvG9ihvQSZZ",
        "outputId": "688c922b-90ad-4987-be80-c07b19adb1b7"
      },
      "execution_count": null,
      "outputs": [
        {
          "output_type": "stream",
          "name": "stdout",
          "text": [
            "6\n",
            "The number is even.\n"
          ]
        }
      ]
    },
    {
      "cell_type": "code",
      "source": [
        "#TAsk-6\n",
        "a=int(input())\n",
        "if a%2==0 or a%5==0:\n",
        "  print(a)\n",
        "else:\n",
        "  print('Not a multiple of 2 OR 5')"
      ],
      "metadata": {
        "colab": {
          "base_uri": "https://localhost:8080/"
        },
        "id": "D4M0uXDrRGau",
        "outputId": "b463394c-e70f-4c4a-8829-43909acecee6"
      },
      "execution_count": null,
      "outputs": [
        {
          "output_type": "stream",
          "name": "stdout",
          "text": [
            "6\n",
            "6\n"
          ]
        }
      ]
    },
    {
      "cell_type": "code",
      "source": [
        "#Task-7\n",
        "a=int(input())\n",
        "if a%2==0 and a%5==0:\n",
        "  print('Multipleof 2 and 5 both')\n",
        "elif a%2==0 or a%5==0:\n",
        "    print(a)\n",
        "else:\n",
        "  print('Not a multiple of 2 OR 5')"
      ],
      "metadata": {
        "colab": {
          "base_uri": "https://localhost:8080/"
        },
        "id": "XX-AtMGoSk1t",
        "outputId": "e2b3d2c5-001f-4a91-b51e-9e8375f4d20c"
      },
      "execution_count": null,
      "outputs": [
        {
          "output_type": "stream",
          "name": "stdout",
          "text": [
            "10\n",
            "Multipleof 2 and 5 both\n"
          ]
        }
      ]
    },
    {
      "cell_type": "code",
      "source": [
        "#Task-8\n",
        "a=int(input())\n",
        "if a%2==0 and a%5==0:\n",
        "  print(a)\n",
        "else:\n",
        "  print('Not a multiple of 2 and 5 both')\n"
      ],
      "metadata": {
        "colab": {
          "base_uri": "https://localhost:8080/"
        },
        "id": "kYasKJdvTMAu",
        "outputId": "8befc8a3-8a97-4ed2-c336-5335dae40ff6"
      },
      "execution_count": null,
      "outputs": [
        {
          "output_type": "stream",
          "name": "stdout",
          "text": [
            "6\n",
            "Not a multiple of 2 and 5 both\n"
          ]
        }
      ]
    },
    {
      "cell_type": "code",
      "source": [
        "#Task-9\n",
        "a=int(input())\n",
        "x = a//3600\n",
        "a%=3600\n",
        "y = a//60\n",
        "a%=60\n",
        "\n",
        "print('Hours:',x,'Minutes: ',y,'seconds: ',a)\n"
      ],
      "metadata": {
        "colab": {
          "base_uri": "https://localhost:8080/"
        },
        "id": "UMPJVgYYWaVf",
        "outputId": "4f21d560-4523-47f1-979f-d8cc1f5e9d5c"
      },
      "execution_count": null,
      "outputs": [
        {
          "output_type": "stream",
          "name": "stdout",
          "text": [
            "10000\n",
            "Hours: 2 Minutes:  46 seconds:  40\n"
          ]
        }
      ]
    },
    {
      "cell_type": "code",
      "source": [
        "#Task-9\n",
        "a = int(input())\n",
        "x = a//3600 #hours\n",
        "# i.e 10000%3600=2800.....2800//60=46\n",
        "y = (a%3600)//60#minutes\n",
        "# i.e 2800%60=.,.....\n",
        "z = ((a%3600)%60)\n",
        "print('Hours: ',x,'Minutes: ',y,'Seconds: ',z)\n"
      ],
      "metadata": {
        "colab": {
          "base_uri": "https://localhost:8080/"
        },
        "id": "oWYBN5z_YnyJ",
        "outputId": "6eaafa54-9178-46e4-8da4-5642c585177c"
      },
      "execution_count": null,
      "outputs": [
        {
          "output_type": "stream",
          "name": "stdout",
          "text": [
            "10000\n",
            "Hours:  2 Minutes:  46 Seconds:  40\n"
          ]
        }
      ]
    },
    {
      "cell_type": "code",
      "source": [
        "#Task-10\n",
        "x=int(input())\n",
        "if x<=40:\n",
        "  print(200*x)\n",
        "elif x>40:\n",
        "  print(8000+((x-40)*300))"
      ],
      "metadata": {
        "colab": {
          "base_uri": "https://localhost:8080/"
        },
        "id": "2S33300vg6ZL",
        "outputId": "bbaf769f-5c30-451b-9e15-94e071faae67"
      },
      "execution_count": null,
      "outputs": [
        {
          "output_type": "stream",
          "name": "stdout",
          "text": [
            "30\n",
            "6000\n"
          ]
        }
      ]
    },
    {
      "cell_type": "code",
      "source": [
        "#task-11\n",
        "s=int(input('S='))\n",
        "import math\n",
        "if s<100:\n",
        "  print('L =',float(3000-(125*math.pow(s,2))))\n",
        "elif s>=100:\n",
        "  print('L =',float(12000/((4+(math.pow(s,2)))/14900)))"
      ],
      "metadata": {
        "colab": {
          "base_uri": "https://localhost:8080/"
        },
        "id": "s9p32e0tak2s",
        "outputId": "eec48c78-01e6-45c6-c761-031c82fe5294"
      },
      "execution_count": null,
      "outputs": [
        {
          "output_type": "stream",
          "name": "stdout",
          "text": [
            "S=120\n",
            "L = 12413.218550402666\n"
          ]
        }
      ]
    },
    {
      "cell_type": "code",
      "source": [
        "#Task-12\n",
        "x=int(input())\n",
        "if x>=4 and x<=6:\n",
        "    print('Breakfast')\n",
        "elif x>=12 and x<=13:\n",
        "    print('Brunch')\n",
        "elif x>=16 and x<=17:\n",
        "    print('Snack time')\n",
        "elif x>=19 and x<=20:\n",
        "    print('dinner')\n",
        "elif x>=24 or x<0:\n",
        "    print('Invalid input')\n",
        "else:\n",
        "    print('Patience is vertue')"
      ],
      "metadata": {
        "colab": {
          "base_uri": "https://localhost:8080/"
        },
        "id": "nPLOolerbf9v",
        "outputId": "66351ea7-7735-499b-88a7-c2fb5090d7ba"
      },
      "execution_count": null,
      "outputs": [
        {
          "output_type": "stream",
          "name": "stdout",
          "text": [
            "3\n",
            "Patience is vertue\n"
          ]
        }
      ]
    },
    {
      "cell_type": "code",
      "source": [
        "#task-12\n",
        "x=int(input())\n",
        "if x>=4 and x<=6:\n",
        "    print('Breakfast')\n",
        "elif x>=11 and x<=15:\n",
        "    print('Brunch')\n",
        "elif x>=16 and x<=20:\n",
        "    print('Snack time')\n",
        "elif x>=21 and x<=23:\n",
        "    print('dinner')\n",
        "elif x>23 and x<6:\n",
        "    print('Patience is vertue')\n",
        "else:\n",
        "    print('Invalid input')\n"
      ],
      "metadata": {
        "colab": {
          "base_uri": "https://localhost:8080/"
        },
        "id": "ctqiwx9tua4F",
        "outputId": "46e458c2-6bf6-4696-dda0-dd26b514d0b0"
      },
      "execution_count": null,
      "outputs": [
        {
          "output_type": "stream",
          "name": "stdout",
          "text": [
            "8\n",
            "Break fast\n"
          ]
        }
      ]
    },
    {
      "cell_type": "code",
      "source": [
        "#Task-13\n",
        "m=int(input())\n",
        "if m<=100 and m>=90:\n",
        "  print('A')\n",
        "elif m<90 and m>=80:\n",
        "  print('B')\n",
        "elif m<80 and m>=70:\n",
        "  print('C')\n",
        "elif m<70 and m>=60:\n",
        "  print('D')\n",
        "elif m<60 and m>=50:\n",
        "  print('E')\n",
        "elif m<50 and m>=0:\n",
        "  print('F')\n",
        "else:\n",
        "  print('Invalid')"
      ],
      "metadata": {
        "colab": {
          "base_uri": "https://localhost:8080/"
        },
        "id": "uFJ2-_oKHShh",
        "outputId": "4236e803-e620-49c2-c53e-2bef8e834740"
      },
      "execution_count": null,
      "outputs": [
        {
          "output_type": "stream",
          "name": "stdout",
          "text": [
            "110\n",
            "Invalid\n"
          ]
        }
      ]
    },
    {
      "cell_type": "code",
      "source": [
        "#Task-14\n",
        "x=float(input())\n",
        "t=float(input())\n",
        "v=(x*3.6)/t\n",
        "print(f'Velocity is {v}Km/h')\n",
        "if v<60:\n",
        "  print('Too slow. Needs more changes.')\n",
        "elif v>=60 and v<=90:\n",
        "  print('Velocity is okay. The car is ready!')\n",
        "elif v>90:\n",
        "  print('Too fast. Only a few changes should suffice.')\n"
      ],
      "metadata": {
        "colab": {
          "base_uri": "https://localhost:8080/"
        },
        "id": "eIQ8VFG5MGkI",
        "outputId": "51c2262b-5338-483e-ebc8-2355012f8bef"
      },
      "execution_count": null,
      "outputs": [
        {
          "output_type": "stream",
          "name": "stdout",
          "text": [
            "25400\n",
            "3600\n",
            "Velocity is 25.4Km/h\n",
            "Too slow. Needs more changes.\n"
          ]
        }
      ]
    },
    {
      "cell_type": "code",
      "source": [
        "#Task-15\n",
        "x=float(input())\n",
        "\n",
        "if x==4.00:\n",
        "  print('100 percet')\n",
        "elif x>=3.95 and x<4:\n",
        "  print('75 percent')\n",
        "elif x>=3.9 and x<3.95:\n",
        "  print('50 percent')\n",
        "elif x>3.8 and x<3.9:\n",
        "  print('25 percent')\n",
        "else:\n",
        "  print(\"The student is not eligible for a waiver\")"
      ],
      "metadata": {
        "colab": {
          "base_uri": "https://localhost:8080/"
        },
        "id": "VkmAaL__PI9N",
        "outputId": "2f755ab4-0845-4841-bb07-cbc68df1b756"
      },
      "execution_count": null,
      "outputs": [
        {
          "output_type": "stream",
          "name": "stdout",
          "text": [
            "3.79\n",
            "The student is not eligible for a waiver\n"
          ]
        }
      ]
    },
    {
      "cell_type": "code",
      "source": [
        "###########################################################<<<TRACING>>>>#################################################################################"
      ],
      "metadata": {
        "id": "R2CApbV606sD"
      },
      "execution_count": null,
      "outputs": []
    },
    {
      "cell_type": "code",
      "source": [
        "p = 5\n",
        "q = 6\n",
        "r = 9\n",
        "sum = 0\n",
        "if (p < 12):\n",
        "    print(r + 2)\n",
        "else:\n",
        "    print(r + p)\n",
        "if (q > 20):\n",
        "    print(r + 19)\n",
        "elif (q <= 6):\n",
        "    print(q + 3)\n",
        "else:\n",
        "    print(p + q + r)\n",
        "if (r > 15):\n",
        "    print(r)\n",
        "elif (r == 0):\n",
        "    print(p + q)\n",
        "else:\n",
        "    print(p)\n",
        "if (sum != 0):\n",
        "    print(3)\n",
        "else:\n",
        "    print(sum + 32)\n",
        "if (p>0 and r<10):\n",
        "    print(p+r)\n",
        "else:\n",
        "    print(p-r)"
      ],
      "metadata": {
        "colab": {
          "base_uri": "https://localhost:8080/"
        },
        "id": "qho0ScsKR18_",
        "outputId": "d006b590-498a-4ad7-d676-dc11f7636769"
      },
      "execution_count": null,
      "outputs": [
        {
          "output_type": "stream",
          "name": "stdout",
          "text": [
            "11\n",
            "9\n",
            "5\n",
            "32\n",
            "14\n"
          ]
        }
      ]
    },
    {
      "cell_type": "code",
      "source": [
        "var1 = (not False or False) and True\n",
        "var2 = var1 and True\n",
        "var3 = False and not True\n",
        "var6 = var3 and True\n",
        "print(var6)"
      ],
      "metadata": {
        "colab": {
          "base_uri": "https://localhost:8080/"
        },
        "id": "6uXbyFjwV-UH",
        "outputId": "425eaaf5-a6ca-4b3a-db3d-316ff19d89c7"
      },
      "execution_count": null,
      "outputs": [
        {
          "output_type": "stream",
          "name": "stdout",
          "text": [
            "False\n"
          ]
        }
      ]
    },
    {
      "cell_type": "code",
      "source": [
        "#Task-17\n",
        "var1 = var2 = var3 = var4 = var5 = var6 = False\n",
        "result1 = False\n",
        "result2 = False\n",
        "result3 = False\n",
        "result4 = False\n",
        "result5 = False\n",
        "result6 = False\n",
        "result7 = False\n",
        "result8 = False\n",
        "result9 = False\n",
        "result10 = False\n",
        "var1 = 4 > 3 - 1\n",
        "var2 = var1 and False\n",
        "var3 = True\n",
        "var4 = False\n",
        "var5 = True\n",
        "var6 = var3 and False\n",
        "result1 = (var1 or var2) and (8 * 10 > 45)\n",
        "result2 = (var1 or var2) and (result1 and False)\n",
        "result3 = (var1 and result1) or result2\n",
        "result4 = (var1 or var2) or ((var3 and var1) and False)\n",
        "result5 = (var1 and var2) and (result3 or var1)\n",
        "result6 = ((var3 or var2) and not(result5)) or True\n",
        "result7 = (var4 and result1) and ((result1 and False) or True)\n",
        "result8 = ((var1 and result3) and (var5 or var6)) and True\n",
        "result9 = ((result2 and var2) or (result7 and var1)) and False\n",
        "result10 = not(var1 and True)\n",
        "\n",
        "print(result1,result2,result3,result4,result5,result6,result7,result8,result9,result10)"
      ],
      "metadata": {
        "id": "mxYnj4RuTX9f",
        "colab": {
          "base_uri": "https://localhost:8080/"
        },
        "outputId": "db285cfc-11b6-4f54-9175-ade575c6bed7"
      },
      "execution_count": null,
      "outputs": [
        {
          "output_type": "stream",
          "name": "stdout",
          "text": [
            "True False True True False True False True False False\n"
          ]
        }
      ]
    },
    {
      "cell_type": "code",
      "source": [
        "#Task-18\n",
        "var1 = False\n",
        "var2 = False\n",
        "var3 = False\n",
        "var4 = False\n",
        "var5 = False\n",
        "var6 = False\n",
        "result1 = False\n",
        "result2 = False\n",
        "result3 = False\n",
        "result4 = False\n",
        "result5 = False\n",
        "result6 = False\n",
        "result7 = False\n",
        "result8 = False\n",
        "result9 = False\n",
        "result10 = False\n",
        "var1 = ((not True) or True) and False\n",
        "var2 = var1 and False\n",
        "var3 = True and not False\n",
        "var4 = False\n",
        "var5 = True\n",
        "var6 = var3 and False\n",
        "result1 = (var1 and var2) and (40 % 3) > 45 or (var5 and var6)\n",
        "result2 = (var1 or var2) or (result1 and False)\n",
        "result3 = (var1 and result1) or result2 or var5\n",
        "result4 = (var1 or var2) or ((var3 and var1) and False)\n",
        "result5 = (var1 and var2) and (result3 or var1)\n",
        "result6 = ((var3 or (not var2)) and (result5)) or True\n",
        "result7 = (var4 and result1) and ((result1 and False) or True)\n",
        "result8 = ((var1 and result3) and ((not var5) or var6)) and True\n",
        "result9 = ((result2 and var2) or ((not result7) and var1)) and not False\n",
        "result10 = not(var1 and True)\n",
        "print(result1,result2,result3,result4,result5,result6,result7,result8,result9,result10)"
      ],
      "metadata": {
        "id": "5rpZExqaTJI0",
        "colab": {
          "base_uri": "https://localhost:8080/"
        },
        "outputId": "333fb705-5f8c-4b26-a6b2-7a9a24f444d2"
      },
      "execution_count": null,
      "outputs": [
        {
          "output_type": "stream",
          "name": "stdout",
          "text": [
            "False False True False False True False False False True\n"
          ]
        }
      ]
    },
    {
      "cell_type": "code",
      "source": [
        "#Task-19\n",
        "var1 = var2 = var3 = var4 = var5 = var6 = False\n",
        "result1 = result2 = result3 = result4 = result5 = result6 = False\n",
        "result7 = result8 = result9 = result10 = False\n",
        "var1 = (not False or False) and True\n",
        "var2 = var1 and True\n",
        "var3 = False and not True\n",
        "var4 = True\n",
        "var5 = False\n",
        "var6 = var3 and True\n",
        "result1 = (var1 and var2) and ( 40 % 3 > 45) or (var5 and var6)\n",
        "result2 = (var1 or var2) or (result1 and False)\n",
        "result3 = (var1 and result1) or result2 or var5\n",
        "result4 = (var1 or var2) or ((var3 and var1) and False)\n",
        "result5 = (var1 and var2) and (result3 or var1)\n",
        "result6 = ((var3 or not var2) and (result5)) or True\n",
        "result7 = (var4 and result1) and ((result1 and False) or True)\n",
        "result8 = ((var1 and result3) and (not var5 or var6)) and True\n",
        "result9 = ((result2 and var2) or (not result7 and var1)) and not False\n",
        "result10 = not (var1 and True)\n",
        "\n",
        "print(result1,result2,result3,result4,result5,result6,result7,result8,result9,result10)"
      ],
      "metadata": {
        "colab": {
          "base_uri": "https://localhost:8080/"
        },
        "id": "PvgYDrRRTKI9",
        "outputId": "faa8ba0e-4306-46a2-db90-10e58c37e39a"
      },
      "execution_count": null,
      "outputs": [
        {
          "output_type": "stream",
          "name": "stdout",
          "text": [
            "False True True True True True False True True False\n"
          ]
        }
      ]
    },
    {
      "cell_type": "code",
      "source": [
        "#################################################################>>>>>>---UNGRADED---<<<<<<<#############################################################"
      ],
      "metadata": {
        "id": "BNaRZx48Dtne"
      },
      "execution_count": null,
      "outputs": []
    },
    {
      "cell_type": "code",
      "source": [
        "#Task-20\n",
        "a=int(input())\n",
        "if a%2==0 or a%5==0:\n",
        "  print('No')\n",
        "else:\n",
        "  print(a)\n"
      ],
      "metadata": {
        "colab": {
          "base_uri": "https://localhost:8080/"
        },
        "id": "O9QhmR7FUE3N",
        "outputId": "07d5ca16-918e-436f-9960-3a15efe02d26"
      },
      "execution_count": null,
      "outputs": [
        {
          "output_type": "stream",
          "name": "stdout",
          "text": [
            "4\n",
            "No\n"
          ]
        }
      ]
    },
    {
      "cell_type": "code",
      "source": [
        "#Task-21\n",
        "a=int(input())\n",
        "if a%2==0 and a%5==0:\n",
        "  print('No')\n",
        "else:\n",
        "  print(a)"
      ],
      "metadata": {
        "id": "6kUYUMhgVD6p",
        "colab": {
          "base_uri": "https://localhost:8080/"
        },
        "outputId": "7f5c1c2d-034b-4ee9-ce90-006c32337716"
      },
      "execution_count": null,
      "outputs": [
        {
          "output_type": "stream",
          "name": "stdout",
          "text": [
            "20\n",
            "No\n"
          ]
        }
      ]
    },
    {
      "cell_type": "code",
      "source": [
        "#task-22\n",
        "canvas=int(input('Number of Canvases: '))\n",
        "paint_tube=int(input('Paint tube: '))\n",
        "x=((canvas*120)+(75*paint_tube))\n",
        "print(f'Previous total: {x}')\n",
        "if x>=0 and x<300:\n",
        "  print(f'New total after discount: {x} ')\n",
        "elif x>=300 and x<500:\n",
        "  print(f'New total after discount: {x-10}')\n",
        "elif x>=500 and x<750:\n",
        "  print(f'New total after discount: {x-20}')\n",
        "elif x>=750 and x<1000:\n",
        "  print(f'New total after discount: {x-50}')\n",
        "elif x>=1000:\n",
        "  print(f'New total after discount: {x-150}')\n",
        "else:\n",
        "  pass"
      ],
      "metadata": {
        "colab": {
          "base_uri": "https://localhost:8080/"
        },
        "id": "uUEZ2HDoD9jp",
        "outputId": "fc3a0bb9-5a0c-4a86-fcf6-caab5b4693e4"
      },
      "execution_count": null,
      "outputs": [
        {
          "output_type": "stream",
          "name": "stdout",
          "text": [
            "Number of Canvases: 5\n",
            "Paint tube: 8\n",
            "Previous total: 1200\n",
            "New total after discount: 1050\n"
          ]
        }
      ]
    },
    {
      "cell_type": "code",
      "source": [
        "#Task-23\n",
        "n=float(input())\n",
        "x=((n-32)*.56)\n",
        "print(x)\n",
        "if x<20:\n",
        "  print('Winter')\n",
        "elif x>=20 and x<=25:\n",
        "  print('Autumn')\n",
        "elif x>25 and x<30:\n",
        "  print('Spring')\n",
        "elif x>=30:\n",
        "  print('Summer')\n",
        "else:\n",
        "  pass"
      ],
      "metadata": {
        "colab": {
          "base_uri": "https://localhost:8080/"
        },
        "id": "To4CaliwG2lQ",
        "outputId": "fdaf56a5-ef31-4952-e68a-e31fb1c06618"
      },
      "execution_count": null,
      "outputs": [
        {
          "output_type": "stream",
          "name": "stdout",
          "text": [
            "131\n",
            "55.440000000000005\n",
            "Summer\n"
          ]
        }
      ]
    }
  ]
}