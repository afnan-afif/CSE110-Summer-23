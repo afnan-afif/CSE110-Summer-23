{
  "cells": [
    {
      "cell_type": "code",
      "execution_count": null,
      "metadata": {
        "id": "UK6tT9Bn9KTz"
      },
      "outputs": [],
      "source": [
        "#Task-1(a)\n",
        "for i in range(24,-12,-6):\n",
        "  print(i,end='')\n",
        "  if i!=-6:\n",
        "    print(',',end='')\n",
        "\n"
      ]
    },
    {
      "cell_type": "code",
      "execution_count": null,
      "metadata": {
        "colab": {
          "base_uri": "https://localhost:8080/"
        },
        "id": "-qIL74vF_HyL",
        "outputId": "608ae75d-7f43-4829-976c-a79b6f604d82"
      },
      "outputs": [
        {
          "output_type": "stream",
          "name": "stdout",
          "text": [
            "18,12,6,0,-6"
          ]
        }
      ],
      "source": [
        "#task-1a'\n",
        "i=24\n",
        "while i>-6:\n",
        "  print(i-6,end='')\n",
        "  i-=6 #increment is joruri\n",
        "  if i!=-6:\n",
        "    print(',',end='')\n"
      ]
    },
    {
      "cell_type": "code",
      "execution_count": null,
      "metadata": {
        "id": "85B41S9Q-yCb",
        "colab": {
          "base_uri": "https://localhost:8080/"
        },
        "outputId": "e63ec5a7-e587-430b-d453-cfe313619d69"
      },
      "outputs": [
        {
          "output_type": "stream",
          "name": "stdout",
          "text": [
            "-10,-5,0,5,10,15,20"
          ]
        }
      ],
      "source": [
        "#Task-1b\n",
        "for i in range(-10,21,5):\n",
        "  print(i,end='')\n",
        "  if i!=20:\n",
        "    print(',',end='')"
      ]
    },
    {
      "cell_type": "code",
      "execution_count": null,
      "metadata": {
        "id": "TI73FLsb_F7s",
        "colab": {
          "base_uri": "https://localhost:8080/"
        },
        "outputId": "8e45a2b2-ff9c-4901-9c87-d8544ed95e5c"
      },
      "outputs": [
        {
          "output_type": "stream",
          "name": "stdout",
          "text": [
            "-5,0,5,10,15,20"
          ]
        }
      ],
      "source": [
        "#Task-1b'\n",
        "i=-10\n",
        "while i<20:\n",
        "  print(i+5,end='')\n",
        "  i+=5\n",
        "  if i!=20:\n",
        "    print(',',end='')"
      ]
    },
    {
      "cell_type": "code",
      "execution_count": null,
      "metadata": {
        "id": "5maMdzagAv9B",
        "colab": {
          "base_uri": "https://localhost:8080/"
        },
        "outputId": "4b0bc580-77a9-4047-c06a-abb40df27418"
      },
      "outputs": [
        {
          "output_type": "stream",
          "name": "stdout",
          "text": [
            "18,27,36,45,54,63"
          ]
        }
      ],
      "source": [
        "#task-1c\n",
        "for i in range(2,8):\n",
        "  x=i*9\n",
        "  print(x,end=\"\")\n",
        "  if x!=63:\n",
        "    print(',',end='')"
      ]
    },
    {
      "cell_type": "code",
      "execution_count": null,
      "metadata": {
        "id": "O2TqSUbSBOwg",
        "colab": {
          "base_uri": "https://localhost:8080/"
        },
        "outputId": "b181477f-280b-4041-96fb-bfa8c6641bbf"
      },
      "outputs": [
        {
          "output_type": "stream",
          "name": "stdout",
          "text": [
            "18,27,36,45,54,63"
          ]
        }
      ],
      "source": [
        "#Task-1c'\n",
        "i=2\n",
        "while i<8:\n",
        "  x=i*9\n",
        "  print(x,end='')\n",
        "  i+=1\n",
        "  if x!=63:\n",
        "    print(',',end='')"
      ]
    },
    {
      "cell_type": "code",
      "execution_count": null,
      "metadata": {
        "id": "Ekuu5_qjDQYM",
        "colab": {
          "base_uri": "https://localhost:8080/"
        },
        "outputId": "1ef02bf3-b17e-4c4b-f43b-29a94996d67c"
      },
      "outputs": [
        {
          "output_type": "stream",
          "name": "stdout",
          "text": [
            "18.0,-27.0,36.0,-45.0,54.0,-63.0"
          ]
        }
      ],
      "source": [
        "#Task-1d\n",
        "import math\n",
        "for i in range(2,8):\n",
        "  x=(math.pow(-1,i))*i*9\n",
        "  #x=-((-1**i)*(i*9))\n",
        "  print(x,end='')\n",
        "  if x!=-63.0:\n",
        "    print(',',end='')"
      ]
    },
    {
      "cell_type": "code",
      "execution_count": null,
      "metadata": {
        "colab": {
          "base_uri": "https://localhost:8080/"
        },
        "id": "OtXiLo_6Ezmc",
        "outputId": "b76f63dc-2d95-41ea-a2d0-1d47bf0a22a5"
      },
      "outputs": [
        {
          "output_type": "stream",
          "name": "stdout",
          "text": [
            "18.0,-27.0,36.0,-45.0,54.0,-63.0"
          ]
        }
      ],
      "source": [
        "#Task-1d'\n",
        "i=2\n",
        "while i<8:\n",
        "  x=(math.pow(-1,i))*i*9\n",
        "  print(x,end='')\n",
        "  i+=1\n",
        "  if x!=-63.0:\n",
        "    print(',',end='')"
      ]
    },
    {
      "cell_type": "code",
      "execution_count": null,
      "metadata": {
        "id": "9X2EK74iFQWF",
        "colab": {
          "base_uri": "https://localhost:8080/"
        },
        "outputId": "d6053417-face-47e8-aa3f-d681be1993f0"
      },
      "outputs": [
        {
          "output_type": "stream",
          "name": "stdout",
          "text": [
            "bugatti\n",
            "5\n",
            "bugatti\n",
            "bugatti\n",
            "bugatti\n",
            "bugatti\n",
            "bugatti\n"
          ]
        }
      ],
      "source": [
        "#Task-2\n",
        "car=input()\n",
        "b=int(input())\n",
        "for i in range(b):\n",
        "  print(car)"
      ]
    },
    {
      "cell_type": "code",
      "execution_count": null,
      "metadata": {
        "id": "L7k-shYaHl3n",
        "colab": {
          "base_uri": "https://localhost:8080/"
        },
        "outputId": "b5303fad-485d-4d22-8e37-aee356b9cfb5"
      },
      "outputs": [
        {
          "output_type": "stream",
          "name": "stdout",
          "text": [
            "bugatti\n",
            "5\n",
            "bugatti\n",
            "bugatti\n",
            "bugatti\n",
            "bugatti\n",
            "bugatti\n"
          ]
        }
      ],
      "source": [
        "#task-2'\n",
        "car=input()\n",
        "i=int(input())\n",
        "while i>0:\n",
        "  print(car)\n",
        "  i-=1"
      ]
    },
    {
      "cell_type": "code",
      "execution_count": null,
      "metadata": {
        "id": "QByw9xbUIHIg",
        "colab": {
          "base_uri": "https://localhost:8080/"
        },
        "outputId": "a1a955df-93e1-4abb-a68a-26f63539d019"
      },
      "outputs": [
        {
          "output_type": "stream",
          "name": "stdout",
          "text": [
            "2835\n"
          ]
        }
      ],
      "source": [
        "#Task-3\n",
        "sum=0\n",
        "for i in range(0,601):\n",
        "  if i%7==0 and i%9==0:\n",
        "    sum+=i\n",
        "print(sum)"
      ]
    },
    {
      "cell_type": "code",
      "execution_count": null,
      "metadata": {
        "id": "yKQ82Fp-JMJq",
        "colab": {
          "base_uri": "https://localhost:8080/"
        },
        "outputId": "fc995809-a607-45c7-d64e-0d71c1beaa81"
      },
      "outputs": [
        {
          "output_type": "stream",
          "name": "stdout",
          "text": [
            "2835\n"
          ]
        }
      ],
      "source": [
        "#Task-3'\n",
        "sum=0\n",
        "i=0\n",
        "while i<601:\n",
        "  i+=1\n",
        "  if i%7==0 and i%9==0:\n",
        "    sum+=i\n",
        "print(sum)"
      ]
    },
    {
      "cell_type": "code",
      "source": [
        "#Task-4\n",
        "#x=7000\n",
        "sum=0\n",
        "for x in range(1,601):\n",
        "  if (x%7==0 and x%9!=0) or (x%7!=0 and x%9==0):\n",
        "    sum+=x\n",
        "print(f'The sum is {sum}')"
      ],
      "metadata": {
        "colab": {
          "base_uri": "https://localhost:8080/"
        },
        "id": "8pcxdY-91Iwu",
        "outputId": "10a7ac8f-5b46-4d2c-b98b-95ab7fc4be68"
      },
      "execution_count": null,
      "outputs": [
        {
          "output_type": "stream",
          "name": "stdout",
          "text": [
            "The sum is 39814\n"
          ]
        }
      ]
    },
    {
      "cell_type": "code",
      "execution_count": null,
      "metadata": {
        "id": "lFzd02sU0oz-",
        "colab": {
          "base_uri": "https://localhost:8080/"
        },
        "outputId": "7a2f4406-4c23-404e-f37c-1120a67af848"
      },
      "outputs": [
        {
          "output_type": "stream",
          "name": "stdout",
          "text": [
            "11 13 15 17 19 21 23 25 27 29 31 33 35 37 39 41 43 45 47 49 "
          ]
        }
      ],
      "source": [
        "#Task-5\n",
        "for i in range(11,50):\n",
        "  if i%2!=0:\n",
        "    print(i,'',end='')"
      ]
    },
    {
      "cell_type": "code",
      "execution_count": null,
      "metadata": {
        "id": "uzhAZJE2OX1E",
        "colab": {
          "base_uri": "https://localhost:8080/"
        },
        "outputId": "31003e88-3107-4d0d-8aa7-b1fef7580f12"
      },
      "outputs": [
        {
          "output_type": "stream",
          "name": "stdout",
          "text": [
            "3\n",
            "6.0\n"
          ]
        }
      ],
      "source": [
        "#Task-6\n",
        "import math\n",
        "n=int(input())\n",
        "sum=0\n",
        "for i in range(0,n+1):\n",
        "  sum+=(-math.pow(-1,i))*(math.pow(i,2))\n",
        "print(sum)"
      ]
    },
    {
      "cell_type": "code",
      "execution_count": null,
      "metadata": {
        "id": "__jPT9bcR8tj",
        "colab": {
          "base_uri": "https://localhost:8080/"
        },
        "outputId": "873dc5fc-57e8-43e8-d1ee-da0da8cac6ea"
      },
      "outputs": [
        {
          "output_type": "stream",
          "name": "stdout",
          "text": [
            "5\n",
            "5\n",
            "5\n",
            "6\n",
            "7\n",
            "4\n",
            "2\n",
            "3\n",
            "4\n",
            "5\n",
            "30\n",
            "5.0\n"
          ]
        }
      ],
      "source": [
        "#Task-7\n",
        "count=0\n",
        "sum=0\n",
        "for i in range(10):\n",
        "  n=int(input())\n",
        "  if n%2!=0:\n",
        "    count+=1\n",
        "    sum+=n\n",
        "print(sum)\n",
        "print(sum/count)"
      ]
    },
    {
      "cell_type": "code",
      "execution_count": null,
      "metadata": {
        "id": "yNrffLbJfw_2",
        "colab": {
          "base_uri": "https://localhost:8080/"
        },
        "outputId": "1f809d14-01f8-4740-ec97-9d8af2a807d1"
      },
      "outputs": [
        {
          "output_type": "stream",
          "name": "stdout",
          "text": [
            "4\n",
            "0\n"
          ]
        }
      ],
      "source": [
        "#Task-8\n",
        "N=int(input())\n",
        "sum=0\n",
        "for i in range(N):\n",
        "  if i%7==0:\n",
        "    sum+=i\n",
        "print(sum)"
      ]
    },
    {
      "cell_type": "code",
      "execution_count": null,
      "metadata": {
        "id": "4ooSPf_mhsSh",
        "colab": {
          "base_uri": "https://localhost:8080/"
        },
        "outputId": "2cbc1722-78e8-43b2-b870-e70510d2f833"
      },
      "outputs": [
        {
          "name": "stdout",
          "output_type": "stream",
          "text": [
            "6\n",
            "6\n",
            "7\n"
          ]
        }
      ],
      "source": [
        "#Task-9\n",
        "sum=0\n",
        "for i in range(5):\n",
        "  n=int(input())\n",
        "  sum+=n\n",
        "  print(sum)"
      ]
    },
    {
      "cell_type": "code",
      "execution_count": null,
      "metadata": {
        "id": "nFGGDNy5kGLt"
      },
      "outputs": [],
      "source": [
        "#Task-10\n",
        "n=int(input())\n",
        "while n>0:\n",
        "  digit=n%10\n",
        "  n//=10\n",
        "  if n==0:\n",
        "    print(digit)\n",
        "  else:\n",
        "    print(digit,end=',')\n"
      ]
    },
    {
      "cell_type": "code",
      "execution_count": null,
      "metadata": {
        "id": "csBgzfGRowlG"
      },
      "outputs": [],
      "source": [
        "#Task-11\n",
        "count=0\n",
        "n=int(input())\n",
        "while n>0:\n",
        "  digit=n%10\n",
        "  n//=10\n",
        "  count+=1\n",
        "print(count)"
      ]
    },
    {
      "cell_type": "code",
      "execution_count": null,
      "metadata": {
        "id": "SWN1DAcFpoPV"
      },
      "outputs": [],
      "source": [
        "#Task-12\n",
        "n=int(input())\n",
        "n2=n\n",
        "count=0\n",
        "while n>0:\n",
        "  digit=n%10\n",
        "  n//=10\n",
        "  count+=1\n",
        "x=10**(count-1)\n",
        "while n2>0:\n",
        "  digit=n2//x\n",
        "  n2%=x\n",
        "  x//=10\n",
        "  if n2==0:\n",
        "    print(digit)\n",
        "  else:\n",
        "    print(digit,end=',')"
      ]
    },
    {
      "cell_type": "code",
      "execution_count": null,
      "metadata": {
        "id": "-Xw4Kf1M9E-O"
      },
      "outputs": [],
      "source": [
        "#task-12(SOLUTION)\n",
        "digit_count=0\n",
        "n=int(input())\n",
        "n2=n\n",
        "while n>0:\n",
        "  dig=n%10\n",
        "  n=n//10\n",
        "  digit_count+=1\n",
        "x=10**(digit_count-1)\n",
        "while n2>0:\n",
        "  digit=n2//x\n",
        "  n2=n2%x\n",
        "  x/=10\n",
        "  if n2==0:\n",
        "    print(digit)\n",
        "  else:\n",
        "    print(digit,end=',')\n"
      ]
    },
    {
      "cell_type": "code",
      "execution_count": null,
      "metadata": {
        "id": "gxF3WlxjyLsE"
      },
      "outputs": [],
      "source": [
        "#Task-13\n",
        "n=int(input())\n",
        "count=0\n",
        "for i in range(1,n+1):\n",
        "  if n%i==0:\n",
        "    count+=1\n",
        "    print(i,end='')\n",
        "    if i<n:\n",
        "      print(',',end='')\n",
        "print()\n",
        "print(f\"Total {count} divisors.\")"
      ]
    },
    {
      "cell_type": "code",
      "execution_count": null,
      "metadata": {
        "id": "BwvNBIGQyTGy"
      },
      "outputs": [],
      "source": [
        "#Task-14\n",
        "n=int(input())\n",
        "sum=0\n",
        "for i in range(1,n):\n",
        "  if n%i==0:\n",
        "    sum+=i\n",
        "if sum==n:\n",
        "  print(f'{n} is a perfect number')\n",
        "else:\n",
        "  print(f'{n} is not a perfect number')"
      ]
    },
    {
      "cell_type": "code",
      "source": [
        "#Task-15\n",
        "n=int(input())\n",
        "count=0\n",
        "for i in range(1,n+1):\n",
        "  if n%i==0:\n",
        "    count+=1\n",
        "if count==2:\n",
        "  print(f'{n} is a prime number')\n",
        "else:\n",
        "  print(f'{n} is not a prime number')"
      ],
      "metadata": {
        "id": "bWzZngE0VeGw"
      },
      "execution_count": null,
      "outputs": []
    },
    {
      "cell_type": "code",
      "source": [
        "#Task-16\n",
        "a = int(input(\"Enter the quantity: \"))\n",
        "sum = 0\n",
        "max = None\n",
        "min = None\n",
        "\n",
        "for i in range(a):\n",
        "    n = int(input(\"Enter a number: \"))\n",
        "\n",
        "    if max is None or n > max:\n",
        "        max = n\n",
        "\n",
        "    if min is None or n < min:\n",
        "        min = n\n",
        "\n",
        "    sum += n\n",
        "\n",
        "average = sum/a\n",
        "\n",
        "print(\"Maximum:\", max)\n",
        "print(\"Minimum:\",min)\n",
        "print(\"Average is\", average)\n"
      ],
      "metadata": {
        "id": "iFfBBCOxWo67"
      },
      "execution_count": null,
      "outputs": []
    },
    {
      "cell_type": "code",
      "source": [
        "#Task-17\n",
        "n=int(input())\n",
        "for i in range(n):\n",
        "  for j in range(n):\n",
        "    print(\"+\",end='')\n",
        "  print()"
      ],
      "metadata": {
        "id": "iJDT3d4Bfkrn"
      },
      "execution_count": null,
      "outputs": []
    },
    {
      "cell_type": "code",
      "source": [
        "#PRINT  a triangle with a star imjportant for exam\n"
      ],
      "metadata": {
        "id": "R2HYnWG7ov_0"
      },
      "execution_count": null,
      "outputs": []
    },
    {
      "cell_type": "code",
      "source": [
        "#Task-18\n",
        "m=int(input('M = '))\n",
        "n=int(input('N = '))\n",
        "for i in range(m):\n",
        "  for i in range(1,n+1):\n",
        "    print(i,end='')\n",
        "  print()"
      ],
      "metadata": {
        "id": "42N1Rrykqbg3"
      },
      "execution_count": null,
      "outputs": []
    },
    {
      "cell_type": "code",
      "source": [
        "#Task-19\n",
        "n=int(input())\n",
        "for i in range(n+1):\n",
        "  for j in range(1,i+1):\n",
        "    print(j,end='')\n",
        "  print()"
      ],
      "metadata": {
        "id": "DOZ2596Y7EPR"
      },
      "execution_count": null,
      "outputs": []
    },
    {
      "cell_type": "code",
      "source": [
        "#Task-20 (Tracing)\n",
        "#x = 0\n",
        "#p =0\n",
        "#sum = 0\n",
        "p = 1\n",
        "x = 2\n",
        "q = None\n",
        "sum = 0\n",
        "while p < 12:\n",
        "    q = x + p - (sum + 7 / 3) / 3.0 % 2\n",
        "    sum = sum + x + int(q)\n",
        "    x += 1\n",
        "    print(sum)\n",
        "    if x > 5:\n",
        "        p += 4 / 2\n",
        "    else:\n",
        "        p += (3 % 1)\n",
        "sum = int(sum + p)\n",
        "print(sum)"
      ],
      "metadata": {
        "id": "JA2jCigkahwj"
      },
      "execution_count": null,
      "outputs": []
    },
    {
      "cell_type": "code",
      "source": [
        "#Task-21\n",
        "x = 0\n",
        "p = 0\n",
        "sum = 0\n",
        "#p = 1\n",
        "#x = 2\n",
        "#q = 0.0\n",
        "#sum = 0\n",
        "while (p < 10) :\n",
        "  q = x + p - (sum + int(5 / 3)) / 3.0 % 2\n",
        "  sum = sum + x + int(q)\n",
        "  x += 1\n",
        "  print(sum)\n",
        "  if (x > 5) :\n",
        "    p += int(4 / 2)\n",
        "  else :\n",
        "    p += 3 % 1\n",
        "sum = sum + p\n",
        "print(sum)\n",
        "\n"
      ],
      "metadata": {
        "id": "DvErlacSa6qp"
      },
      "execution_count": null,
      "outputs": []
    },
    {
      "cell_type": "code",
      "source": [
        "#Task-22\n",
        "x = y = 0\n",
        "sum = 0\n",
        "while (x < 10):\n",
        "  y = x - 3\n",
        "  while (y < 3):\n",
        "    sum = x - y * 2\n",
        "    print(sum)\n",
        "    y = y + 1\n",
        "  if (x > 7):\n",
        "    x += 1\n",
        "  else:\n",
        "    x += 3\n",
        "sum = x - y * 2\n",
        "print(sum)\n",
        "\n"
      ],
      "metadata": {
        "id": "mt5c-f-wbLbj"
      },
      "execution_count": null,
      "outputs": []
    },
    {
      "cell_type": "code",
      "source": [
        "#Task-23\n",
        "x = 0\n",
        "y = 0\n",
        "sum = 0\n",
        "p = 0.0\n",
        "while (x < 10):\n",
        "    y = x // 2\n",
        "    while (y < x):\n",
        "        p = (x + 10.0) / 2\n",
        "        sum = (sum % 2) + x - y * 2 + int(p)\n",
        "        print(sum)\n",
        "        y = y + 2\n",
        "    if (x > 5):\n",
        "        x += 1\n",
        "    else:\n",
        "        x += 2\n",
        "print(sum)\n",
        "\n"
      ],
      "metadata": {
        "id": "655BjAY9bYUz"
      },
      "execution_count": null,
      "outputs": []
    },
    {
      "cell_type": "code",
      "source": [
        "#Task-24\n",
        "test = 1\n",
        "j = 0\n",
        "k = 100\n",
        "while (k > 0):\n",
        "  while ( j < k ):\n",
        "    test = k + j -21\n",
        "    print(str(1 + int (test / 2)))\n",
        "    j += 10\n",
        "  k -= 10\n",
        "test = 1\n",
        "j = 0\n",
        "k = 100\n",
        "\n"
      ],
      "metadata": {
        "id": "YOGHcVFSblia"
      },
      "execution_count": null,
      "outputs": []
    },
    {
      "cell_type": "code",
      "source": [
        "#Task-25\n",
        "n=int(input())\n",
        "i=0\n",
        "for i in range(n):\n",
        "  if\n",
        "    i+=i\n",
        "    if i<n:\n",
        "      print(i,end=' ')"
      ],
      "metadata": {
        "id": "BOk_XhpLbx7e"
      },
      "execution_count": null,
      "outputs": []
    },
    {
      "cell_type": "code",
      "source": [
        "########################################>>>>>----UNGRADED----<<<<<<<################################################"
      ],
      "metadata": {
        "id": "rShfSv5QIdh5"
      },
      "execution_count": null,
      "outputs": []
    },
    {
      "cell_type": "code",
      "source": [
        "#THe DIamond:\n",
        "\n",
        "n=int(input())\n",
        "for row in range(n):#COLUMN\n",
        "  for space in range(1,n-row):\n",
        "    print(' ',end='')\n",
        "  for col in range(row+1):#ROW\n",
        "    print('* ',end='')\n",
        "  print()\n",
        "for row2 in range(1,n):\n",
        "  for space2 in range(row2):\n",
        "    print(' ',end='')\n",
        "  for col2 in range(n-row2):\n",
        "    print('* ',end='')\n",
        "  print()"
      ],
      "metadata": {
        "id": "b2pK0P9uxqRQ"
      },
      "execution_count": null,
      "outputs": []
    },
    {
      "cell_type": "code",
      "source": [
        "n=int(input())\n",
        "for i in range(1,n+1):\n",
        "  for j in range(0,n-i):\n",
        "    print(' ',end='')\n",
        "  for k in range(1,i+1):\n",
        "    print('* ',end='')\n",
        "  print()\n",
        "for i in range(n-1,0,-1):\n",
        "  for j in range(n-i,0,-1):\n",
        "    print(' ',end='')\n",
        "  for k in range(1,i+1):\n",
        "    print('* ',end='')\n",
        "  print()"
      ],
      "metadata": {
        "id": "4SvmOvgKDx0s"
      },
      "execution_count": null,
      "outputs": []
    },
    {
      "cell_type": "code",
      "source": [
        "n=int(input())\n",
        "for i in range(n):\n",
        "  for k in range(n-i):\n",
        "    print(' ',end='')\n",
        "  for j in range(n):\n",
        "    if i==0 or i==n-1 or j==0 or j==n-1 :\n",
        "      print('*',end='')\n",
        "    else:\n",
        "      print(' ',end='')\n",
        "  print()"
      ],
      "metadata": {
        "id": "TQoP87qXFasG"
      },
      "execution_count": null,
      "outputs": []
    },
    {
      "cell_type": "code",
      "source": [
        "#Task-25\n",
        "n=int(input())\n",
        "a=0\n",
        "b=1\n",
        "for i in range(n+1):\n",
        "  if a<n:\n",
        "    print(a)\n",
        "  else:\n",
        "    pass\n",
        "  x=a+b\n",
        "  a=b\n",
        "  b=x\n"
      ],
      "metadata": {
        "id": "1owFv9c2RzDH"
      },
      "execution_count": null,
      "outputs": []
    },
    {
      "cell_type": "code",
      "source": [
        "#Task-26\n",
        "n=int(input())\n",
        "while n>0:\n",
        "  b=n%2\n",
        "  n//=2\n",
        "  print(b,end='')"
      ],
      "metadata": {
        "id": "ZxOMKUJITgjR"
      },
      "execution_count": null,
      "outputs": []
    },
    {
      "cell_type": "code",
      "source": [
        "#Task-27\n",
        "n2=(input())\n",
        "sum=0\n",
        "x=len(n2)-1\n",
        "for i in range(1,len(n2)+1):\n",
        "  a=(2**(x))*int(n2[i-1])\n",
        "  x-=1\n",
        "  sum+=a\n",
        "print(sum)\n"
      ],
      "metadata": {
        "id": "uyN6PZSFZAus"
      },
      "execution_count": null,
      "outputs": []
    },
    {
      "cell_type": "code",
      "source": [
        "#Task-28\n",
        "n=int(input('Start: '))\n",
        "m=int(input('End: '))\n",
        "count=0\n",
        "for i in range(n,m+1):\n",
        "  if i%m==0:\n",
        "    count+=1\n",
        "if count<3:\n",
        "  print(f'''Between {n} and {m},\n",
        "  Found {count} prime numbers\n",
        "  Found {} number\n",
        "  Prime numbers: {}\n",
        "  Perfect number{}''')"
      ],
      "metadata": {
        "id": "VmjY0QOnuPzp"
      },
      "execution_count": null,
      "outputs": []
    },
    {
      "cell_type": "code",
      "source": [
        "#task-28\n",
        "n=int(input('Start: '))\n",
        "m=int(input('End: '))\n",
        "flag=True\n",
        "prime=0\n",
        "perfect=0\n",
        "\n",
        "for i in range(n,m+1):\n",
        "  count1=0\n",
        "  for j in range(2,m+1):\n",
        "    if i%j==0:\n",
        "      count1+=1\n",
        "  if count1<3:\n",
        "    flag=False\n",
        "    prime+=1\n",
        "  else:\n",
        "    flag=True\n",
        "for i in range(n,m+1):\n",
        "\n"
      ],
      "metadata": {
        "id": "Z-QQRDs-Xniy"
      },
      "execution_count": null,
      "outputs": []
    },
    {
      "cell_type": "code",
      "source": [],
      "metadata": {
        "id": "aI0rHCgy_xYR"
      },
      "execution_count": null,
      "outputs": []
    },
    {
      "cell_type": "code",
      "source": [
        "def is_prime(number):\n",
        "    if number < 2:\n",
        "        return False\n",
        "    for i in range(2, int(number**0.5) + 1):\n",
        "        if number % i == 0:\n",
        "            return False # why is it false here\n",
        "    return True #Why are we making it true\n",
        "\n",
        "def is_perfect(number):\n",
        "    if number < 2:\n",
        "        return False\n",
        "    divisors_sum = 1\n",
        "    for i in range(2, int(number**0.5) + 1):\n",
        "        if number % i == 0:\n",
        "            divisors_sum += i\n",
        "            if i != number // i:\n",
        "                divisors_sum += number // i\n",
        "    return divisors_sum == number\n",
        "\n",
        "def count_and_print_numbers(start, end):\n",
        "    prime_numbers = []\n",
        "    perfect_numbers = []\n",
        "\n",
        "    for num in range(start, end + 1):\n",
        "        if is_prime(num):\n",
        "            prime_numbers.append(num)\n",
        "        if is_perfect(num):\n",
        "            perfect_numbers.append(num)\n",
        "\n",
        "    print(f\"Between {start} and {end},\")\n",
        "    print(f\"Found {len(prime_numbers)} prime numbers\")\n",
        "    print(f\"Found {len(perfect_numbers)} perfect numbers\")\n",
        "\n",
        "    if prime_numbers:\n",
        "        print(\"Prime numbers:\", \", \".join(map(str, prime_numbers)))\n",
        "    if perfect_numbers:\n",
        "        print(\"Perfect number:\", \", \".join(map(str, perfect_numbers)))\n",
        "\n",
        "\n",
        "if __name__ == \"__main__\":\n",
        "    start = int(input(\"Enter the starting number: \"))\n",
        "    end = int(input(\"Enter the ending number: \"))\n",
        "    count_and_print_numbers(start, end)\n"
      ],
      "metadata": {
        "id": "YjrP0JEQ_xU5"
      },
      "execution_count": null,
      "outputs": []
    },
    {
      "cell_type": "code",
      "source": [
        "# #task-28\n",
        "n=int(input())\n",
        "if n<2:\n",
        "  n=2\n",
        "m=int(input())\n",
        "\n",
        "nonprime_count=0\n",
        "prime_count=0\n",
        "temp=[]\n",
        "temp2=[]\n",
        "\n",
        "for i in range(n,m+1):\n",
        "  for j in range(2,11):\n",
        "    if i%j==0:\n",
        "      nonprime_count+=1\n",
        "      temp+=str(i)\n",
        "    else:\n",
        "      prime_count+=1\n",
        "      temp2+=str(i)\n",
        "\n",
        "\n",
        "print(temp)\n",
        "print(temp2)\n"
      ],
      "metadata": {
        "id": "_Ye7A6lHRL_a"
      },
      "execution_count": null,
      "outputs": []
    }
  ],
  "metadata": {
    "colab": {
      "provenance": []
    },
    "kernelspec": {
      "display_name": "Python 3",
      "name": "python3"
    },
    "language_info": {
      "name": "python"
    }
  },
  "nbformat": 4,
  "nbformat_minor": 0
}