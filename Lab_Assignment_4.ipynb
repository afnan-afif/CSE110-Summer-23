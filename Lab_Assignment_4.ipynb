{
  "nbformat": 4,
  "nbformat_minor": 0,
  "metadata": {
    "colab": {
      "provenance": []
    },
    "kernelspec": {
      "name": "python3",
      "display_name": "Python 3"
    },
    "language_info": {
      "name": "python"
    }
  },
  "cells": [
    {
      "cell_type": "code",
      "execution_count": null,
      "metadata": {
        "id": "WzeTYnNTSasS"
      },
      "outputs": [],
      "source": [
        "#Task-1\n",
        "n=input()[-1::-1]\n",
        "print(n)"
      ]
    },
    {
      "cell_type": "code",
      "source": [
        "#Task-2\n",
        "a=input()\n",
        "b=int(input())\n",
        "print(a[b::-1]+a[b+1::1])"
      ],
      "metadata": {
        "id": "R-BP4oz5c_7b"
      },
      "execution_count": null,
      "outputs": []
    },
    {
      "cell_type": "code",
      "source": [
        "#Task-3\n",
        "n=input()\n",
        "flag=True\n",
        "for i in n:\n",
        "  if (i!='0' and i!='1'):\n",
        "    print('Non binary')\n",
        "    flag=False\n",
        "    break\n",
        "if flag:\n",
        "  print('Binary number')"
      ],
      "metadata": {
        "id": "dCQxaDt_dGNw"
      },
      "execution_count": null,
      "outputs": []
    },
    {
      "cell_type": "code",
      "source": [
        "#Task-4\n",
        "n=input()   #############**CHECK FOR \"er\" in ber**#############\n",
        "if len(n)<4:\n",
        "  if n[len(n)-2:]==\"er\":\n",
        "    print(n[0:len(n)-2]+'est')\n",
        "  else:\n",
        "    print(n)\n",
        "elif n[len(n)-2:]=='er':\n",
        "  print(n[0:len(n)-1]+'st')\n",
        "elif n[len(n)-3:]=='est':\n",
        "  print(n)\n",
        "else:\n",
        "  print(n+'er')"
      ],
      "metadata": {
        "id": "FEt4H-G3hjRn"
      },
      "execution_count": null,
      "outputs": []
    },
    {
      "cell_type": "code",
      "source": [
        "#Task-5\n",
        "n=input()\n",
        "i=len(n)\n",
        "x=0\n",
        "while x<i:\n",
        "  print(n[:x+1:1])\n",
        "  x+=1"
      ],
      "metadata": {
        "id": "tyRtkItaBZBh"
      },
      "execution_count": null,
      "outputs": []
    },
    {
      "cell_type": "code",
      "source": [
        "#Task-6\n",
        "n=input()\n",
        "for i in range(0,len(n)):\n",
        "  print(n[i],':',ord(n[i]))"
      ],
      "metadata": {
        "id": "OUl1PKhhn7cQ",
        "outputId": "12271918-78db-4806-ea66-cb6502a914f3",
        "colab": {
          "base_uri": "https://localhost:8080/"
        }
      },
      "execution_count": null,
      "outputs": [
        {
          "output_type": "stream",
          "name": "stdout",
          "text": [
            "\"Python programming is fun\"\n",
            "\" : 34\n",
            "P : 80\n",
            "y : 121\n",
            "t : 116\n",
            "h : 104\n",
            "o : 111\n",
            "n : 110\n",
            "  : 32\n",
            "p : 112\n",
            "r : 114\n",
            "o : 111\n",
            "g : 103\n",
            "r : 114\n",
            "a : 97\n",
            "m : 109\n",
            "m : 109\n",
            "i : 105\n",
            "n : 110\n",
            "g : 103\n",
            "  : 32\n",
            "i : 105\n",
            "s : 115\n",
            "  : 32\n",
            "f : 102\n",
            "u : 117\n",
            "n : 110\n",
            "\" : 34\n"
          ]
        }
      ]
    },
    {
      "cell_type": "code",
      "source": [
        "#Task-7\n",
        "n=input()\n",
        "for i in range(0,len(n)):\n",
        "  x=ord(n[i])\n",
        "  y=x+1\n",
        "  if y<123:\n",
        "    print(chr(y),end='')\n",
        "  else:\n",
        "    print('a',end='')"
      ],
      "metadata": {
        "id": "7BL4h4e6r8m9"
      },
      "execution_count": null,
      "outputs": []
    },
    {
      "cell_type": "code",
      "source": [
        "#Task-8\n",
        "n=input()\n",
        "for i in range(0,len(n)):\n",
        "  if i%2!=0:\n",
        "    x=ord(n[i])\n",
        "    y=x-32\n",
        "    print(chr(y),end='')"
      ],
      "metadata": {
        "id": "h33S61Vzt-Ry"
      },
      "execution_count": null,
      "outputs": []
    },
    {
      "cell_type": "code",
      "source": [
        "#Task-9\n",
        "n=input()\n",
        "for i in range(0,len(n)-1):\n",
        "  if ord(n[i])!=ord(n[i+1]):\n",
        "    print(n[i],end='')\n",
        "print(n[len(n)-1],end='')\n"
      ],
      "metadata": {
        "id": "eXAQMRrhxEFZ"
      },
      "execution_count": null,
      "outputs": []
    },
    {
      "cell_type": "code",
      "source": [
        "#Task-10\n",
        "line = input()\n",
        "n1 = 0\n",
        "i1 = 0\n",
        "while line[n1] != ',':\n",
        "    n1 += 1\n",
        "i2 = n1 + 2\n",
        "n2 = len(line)\n",
        "res = ''\n",
        "while i1 < n1 and i2 < n2:\n",
        "    res += line[i1] + line[i2]\n",
        "    i1 += 1\n",
        "    i2 += 1\n",
        "if i1 < n1:\n",
        "    res += line[i1:n1]\n",
        "else:\n",
        "    res += line[i2:n2]\n",
        "print(res)"
      ],
      "metadata": {
        "id": "36groU2MaeF_",
        "colab": {
          "base_uri": "https://localhost:8080/"
        },
        "outputId": "3dae46b0-f5e4-41b8-abdd-1d4f4c9fb312"
      },
      "execution_count": null,
      "outputs": [
        {
          "output_type": "stream",
          "name": "stdout",
          "text": [
            "ABCD, efgh\n",
            "AeBfCgDh\n"
          ]
        }
      ]
    },
    {
      "cell_type": "code",
      "source": [
        "n=input()\n",
        "temp=''\n",
        "x=0\n",
        "y=0\n",
        "n1,n2=n.split(', ')\n",
        "while len(temp)==len(n)-2:\n",
        "  for i in n1:\n",
        "    if i[x]!=',':\n",
        "      temp+=i\n",
        "      x+=1\n",
        "      break\n",
        "  for j in n2:\n",
        "    temp+=j[y]\n",
        "    y+=1\n",
        "    break\n",
        "print(temp)"
      ],
      "metadata": {
        "colab": {
          "base_uri": "https://localhost:8080/"
        },
        "id": "EgUESmxCNqV2",
        "outputId": "497b1264-699e-4bf0-b970-3f35d7f208f8"
      },
      "execution_count": null,
      "outputs": [
        {
          "output_type": "stream",
          "name": "stdout",
          "text": [
            "ABCD, efgh\n",
            "\n"
          ]
        }
      ]
    },
    {
      "cell_type": "code",
      "source": [
        "#Task-11\n",
        "i = 10\n",
        "while(i >= -20):\n",
        "    if(i < 0):\n",
        "        test = \" != \"\n",
        "        test = str(i//2) + test + str(int(i/2))\n",
        "    else:\n",
        "        test = \" == \"\n",
        "        test = str(i//2) + test + str(int(i/2))\n",
        "    print(test)\n",
        "    i -= 5"
      ],
      "metadata": {
        "id": "yTDKUSzdIJgp"
      },
      "execution_count": null,
      "outputs": []
    },
    {
      "cell_type": "code",
      "source": [
        "#Task-12\n",
        "test = \"\"\n",
        "i = 0\n",
        "j = 0\n",
        "k = 15\n",
        "test = \"-->\"\n",
        "while i < 5:\n",
        "    j = k - 1\n",
        "    k -= 1\n",
        "    while j > 10:\n",
        "        test = str(i + j) + \"-->\" + test\n",
        "        print(test)\n",
        "        j -= 1\n",
        "    i += 1"
      ],
      "metadata": {
        "id": "hCP55nn8ISA8"
      },
      "execution_count": null,
      "outputs": []
    },
    {
      "cell_type": "code",
      "source": [
        "#Task-13\n",
        "test = \"\"\n",
        "i = 5\n",
        "j = 0\n",
        "k = 15\n",
        "while i< 10:\n",
        "    k-=1\n",
        "    j = k\n",
        "    while j > 10:\n",
        "        if (j % 2) == 0:\n",
        "            test = \"<--\"\n",
        "            test = str(test) + str(i) + str(2) + \"-->\" + str(int(j / 2))\n",
        "        else:\n",
        "            test = \"-->\"\n",
        "            test = \"-->\" + str(int(i / 2)) + str(test) + str(j)\n",
        "        print(test)\n",
        "        j = j-1\n",
        "    i+=1\n",
        "\n"
      ],
      "metadata": {
        "id": "rk_7SdjJIneg"
      },
      "execution_count": null,
      "outputs": []
    },
    {
      "cell_type": "code",
      "source": [
        "#Task-14\n",
        "test = \"\"\n",
        "i = 5\n",
        "j = 0\n",
        "k = 15\n",
        "while (i< 10):\n",
        "    k-=1\n",
        "    j = k\n",
        "    while (j > 10 ):\n",
        "        if j % 2 == 0:\n",
        "            test = \"<--\"\n",
        "            test = test + str(i) + '3' + \"-->\" + str(j // 3)\n",
        "        else:\n",
        "            test = \"-->\"\n",
        "            test = \"-->\" + str((i // 3)) + test + str(j)\n",
        "        print(test)\n",
        "        j -=1\n",
        "    i+=1\n",
        "\n"
      ],
      "metadata": {
        "id": "qPn3VRtbI5kC"
      },
      "execution_count": null,
      "outputs": []
    },
    {
      "cell_type": "code",
      "source": [
        "#Task-15\n",
        "i=0\n",
        "j=0\n",
        "k=15\n",
        "test = '<--cat'\n",
        "while i < 5:\n",
        "    k -= 1\n",
        "    j = k\n",
        "    while j > 10:\n",
        "        if j % 2 == 0:\n",
        "            test += '-->'\n",
        "            test = test + str(i) + str(j // 2)\n",
        "        else:\n",
        "            test += '<--'\n",
        "            test = test + str(i // 2) + str(j)\n",
        "        print(test)\n",
        "        j-=1\n",
        "    i+=1"
      ],
      "metadata": {
        "id": "1165abSQJEg5"
      },
      "execution_count": null,
      "outputs": []
    },
    {
      "cell_type": "code",
      "source": [
        "#####################################-------<<<<<<<UNGRADED>>>>>>>------#################################################"
      ],
      "metadata": {
        "id": "kkR-n9MVeiCl"
      },
      "execution_count": null,
      "outputs": []
    },
    {
      "cell_type": "code",
      "source": [],
      "metadata": {
        "id": "qPJlgu1Ulhgr"
      },
      "execution_count": null,
      "outputs": []
    },
    {
      "cell_type": "code",
      "source": [
        "#Class work (13/7/23)\n",
        "n=int(input())\n",
        "for i in range(n+1):\n",
        "  for j in range(1,i+1):\n",
        "    print(\" *\",end='')\n",
        "  print()"
      ],
      "metadata": {
        "colab": {
          "base_uri": "https://localhost:8080/"
        },
        "id": "SuOIwQ8cCBv5",
        "outputId": "7d4bde2b-35c7-418a-f2d5-569d1dc252bc"
      },
      "execution_count": null,
      "outputs": [
        {
          "output_type": "stream",
          "name": "stdout",
          "text": [
            "5\n",
            "\n",
            " *\n",
            " * *\n",
            " * * *\n",
            " * * * *\n",
            " * * * * *\n"
          ]
        }
      ]
    },
    {
      "cell_type": "code",
      "source": [
        "n=int(input())\n",
        "for row in range(n):#COLUMN\n",
        "  for space in range(1,n-row):\n",
        "    print(' ',end='')\n",
        "  for col in range(row+1):#ROW\n",
        "    print('* ',end='')\n",
        "  print()"
      ],
      "metadata": {
        "colab": {
          "base_uri": "https://localhost:8080/"
        },
        "id": "JrPPZ8FoCGUE",
        "outputId": "4b33d132-3913-4898-a566-1681ff30208f"
      },
      "execution_count": null,
      "outputs": [
        {
          "output_type": "stream",
          "name": "stdout",
          "text": [
            "5\n",
            "    * \n",
            "   * * \n",
            "  * * * \n",
            " * * * * \n",
            "* * * * * \n"
          ]
        }
      ]
    },
    {
      "cell_type": "code",
      "source": [
        "n=int(input())\n",
        "for row in range(n):#COLUMN\n",
        "  for space in range(1,n-row):\n",
        "    print(' ',end='')\n",
        "  for col in range(row+1):#ROW\n",
        "    print('* ',end='')\n",
        "  print()\n",
        "for row2 in range(n-1):\n",
        "  for space2 in range(n-1):\n",
        "    print(' ',end='')\n",
        "  for col2 in range(n-1,0,-1):\n",
        "    print('* ',end='')\n"
      ],
      "metadata": {
        "colab": {
          "base_uri": "https://localhost:8080/"
        },
        "id": "V0iktHCWCLFx",
        "outputId": "8e8e679d-3650-4abc-ce9f-467e84040f8e"
      },
      "execution_count": null,
      "outputs": [
        {
          "output_type": "stream",
          "name": "stdout",
          "text": [
            "5\n",
            "    * \n",
            "   * * \n",
            "  * * * \n",
            " * * * * \n",
            "* * * * * \n",
            "    * * * *     * * * *     * * * *     * * * * "
          ]
        }
      ]
    }
  ]
}